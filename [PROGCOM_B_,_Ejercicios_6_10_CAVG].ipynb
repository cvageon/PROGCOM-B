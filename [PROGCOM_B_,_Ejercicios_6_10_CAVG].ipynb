{
  "nbformat": 4,
  "nbformat_minor": 0,
  "metadata": {
    "colab": {
      "provenance": []
    },
    "kernelspec": {
      "name": "python3",
      "display_name": "Python 3"
    },
    "language_info": {
      "name": "python"
    }
  },
  "cells": [
    {
      "cell_type": "markdown",
      "source": [
        "6. Desarrolla un programa que determine si un número es par o impar."
      ],
      "metadata": {
        "id": "WFfl_0KBLqj-"
      }
    },
    {
      "cell_type": "code",
      "execution_count": null,
      "metadata": {
        "id": "nW-R20kHKj9a"
      },
      "outputs": [],
      "source": [
        "N=int(input('Ingrese un munero:'))"
      ]
    },
    {
      "cell_type": "code",
      "source": [
        "if N % 2 == 0:\n",
        "    print('el numero es par')\n",
        "else:\n",
        "    print('el numero es impar')"
      ],
      "metadata": {
        "id": "iZ90R9MmMaz-"
      },
      "execution_count": null,
      "outputs": []
    },
    {
      "cell_type": "code",
      "source": [
        "if N % 2 == 0: print('el numero es par')\n",
        "else: print('el numero es impar')"
      ],
      "metadata": {
        "id": "6RogYU5LMjzH"
      },
      "execution_count": null,
      "outputs": []
    },
    {
      "cell_type": "code",
      "source": [
        "match N:\n",
        "    case N if N % 2 == 0:\n",
        "        print('el numero es par')\n",
        "    case _:\n",
        "        print('el numero es impar')"
      ],
      "metadata": {
        "id": "W987YKJtMvG3"
      },
      "execution_count": null,
      "outputs": []
    },
    {
      "cell_type": "code",
      "source": [
        "print('el numero es par') if N % 2 == 0 else print('el numero es impar')"
      ],
      "metadata": {
        "id": "rcjLBeBjNGVo"
      },
      "execution_count": null,
      "outputs": []
    },
    {
      "cell_type": "markdown",
      "source": [
        "7. Crea un programa que determine si un año es bisiesto (divisible por 4 y no por 100, o divisible por 400)."
      ],
      "metadata": {
        "id": "65-LUrKpNb1x"
      }
    },
    {
      "cell_type": "code",
      "source": [
        "A=int(input('Ingrese el año:'))"
      ],
      "metadata": {
        "id": "DiN4-YxvNdsO"
      },
      "execution_count": null,
      "outputs": []
    },
    {
      "cell_type": "code",
      "source": [
        "if A % 4 == 0 and A % 100 != 0 or A % 400 == 0:\n",
        "  print('el año es bisiesto')\n",
        "else:\n",
        "  print('el año no es bisiesto')"
      ],
      "metadata": {
        "id": "-sL7_hCPNxpF"
      },
      "execution_count": null,
      "outputs": []
    },
    {
      "cell_type": "code",
      "source": [
        "if A % 4 == 0 and A % 100 != 0 or A % 400 == 0: print('el año es bisiesto')\n",
        "else: print('el año no es bisiesto')"
      ],
      "metadata": {
        "id": "Nym2N4c_N-QG"
      },
      "execution_count": null,
      "outputs": []
    },
    {
      "cell_type": "code",
      "source": [
        "match A:\n",
        "    case A if A % 4 == 0 and A % 100 != 0 or A % 400 == 0:\n",
        "        print('el año es bisiesto')\n",
        "    case _:\n",
        "        print('el año no es bisiesto')"
      ],
      "metadata": {
        "id": "MYQ7ZO23ORFf"
      },
      "execution_count": null,
      "outputs": []
    },
    {
      "cell_type": "code",
      "source": [
        "print('el año es bisiesto') if A % 4 == 0 and A % 100 != 0 or A % 400 == 0 else print('el año no es bisiesto')"
      ],
      "metadata": {
        "id": "fcya06baOgpq"
      },
      "execution_count": null,
      "outputs": []
    },
    {
      "cell_type": "markdown",
      "source": [
        "8. Escribe un programa que solicite el nombre del usuario y determine si una persona pertenece a la tercera edad (70 años o más) y si se cumple la condición, imprima que se le da prioridad en la fila."
      ],
      "metadata": {
        "id": "3U3w5HmTeN1K"
      }
    },
    {
      "cell_type": "code",
      "source": [
        "N=(input('ingrese su nombre:'))\n",
        "E=int(input('Ingrese su edad :'))"
      ],
      "metadata": {
        "id": "34yZidIleWDF"
      },
      "execution_count": null,
      "outputs": []
    },
    {
      "cell_type": "code",
      "source": [
        "if E >= 70:\n",
        "    print('se le da prioridad en la fila')\n",
        "else:\n",
        "    print('no se le da prioridad en la fila')"
      ],
      "metadata": {
        "id": "H-jioEIYeogb"
      },
      "execution_count": null,
      "outputs": []
    },
    {
      "cell_type": "code",
      "source": [
        "if E >= 70: print('se le da prioridad en la fila')\n",
        "else: print('no se le da prioridad en la fila')"
      ],
      "metadata": {
        "id": "GQ58_x10e3r_"
      },
      "execution_count": null,
      "outputs": []
    },
    {
      "cell_type": "code",
      "source": [
        "match E:\n",
        "    case E if E >= 70:\n",
        "        print('se le da prioridad en la fila')\n",
        "    case _:\n",
        "        print('no se le da prioridad en la fila')"
      ],
      "metadata": {
        "id": "VaYZDx8WfAR0"
      },
      "execution_count": null,
      "outputs": []
    },
    {
      "cell_type": "code",
      "source": [
        "print('se le da prioridad en la fila') if E >= 70 else print('no se le da prioridad en la fila')"
      ],
      "metadata": {
        "id": "aGvtmJN0fOW2"
      },
      "execution_count": null,
      "outputs": []
    },
    {
      "cell_type": "markdown",
      "source": [
        "9. Desarrolla un programa que compare tres números y muestre el mayor."
      ],
      "metadata": {
        "id": "rBoEyB-Ye29N"
      }
    },
    {
      "cell_type": "code",
      "source": [
        "N1=int(input('Ingrese el numero 1:'))\n",
        "N2=int(input('Ingrese el numero 2:'))\n",
        "N3=int(input('Ingrese el numero 3:'))"
      ],
      "metadata": {
        "id": "2skzZ1s7fkjd"
      },
      "execution_count": null,
      "outputs": []
    },
    {
      "cell_type": "code",
      "source": [
        "if N1 > N2:\n",
        "  if N1 > N3:\n",
        "    print('El mayor es:', N1)\n",
        "  else:\n",
        "    print('El mayor es:', N3)\n",
        "else:\n",
        "  if N2 > N3:\n",
        "    print('El mayor es:', N2)\n",
        "  else:\n",
        "    print('El mayor es:', N3)"
      ],
      "metadata": {
        "id": "K5Rf02EOgBrg"
      },
      "execution_count": null,
      "outputs": []
    },
    {
      "cell_type": "code",
      "source": [
        "if N1 > N2 and N1 > N3: print('El mayor es:', N1)\n",
        "elif N2 > N1 and N2 > N3: print('El mayor es:', N2)\n",
        "else: print('El mayor es:', N3)"
      ],
      "metadata": {
        "id": "JDHSrwY6gTzJ"
      },
      "execution_count": null,
      "outputs": []
    },
    {
      "cell_type": "code",
      "source": [
        "match N1:\n",
        "    case N1 if N1 > N2 and N1 > N3:\n",
        "        print('El mayor es:', N1)"
      ],
      "metadata": {
        "id": "kWgU7LQQgmcj"
      },
      "execution_count": null,
      "outputs": []
    },
    {
      "cell_type": "code",
      "source": [
        "print('El mayor es:', N1) if N1 > N2 and N1 > N3 else print('El mayor es:', N2) if N2 > N1 and N2 > N3 else print('El mayor es:', N3)"
      ],
      "metadata": {
        "id": "mfu1LXzngtLa"
      },
      "execution_count": null,
      "outputs": []
    },
    {
      "cell_type": "markdown",
      "source": [
        "10. Crea un programa que determine si un triángulo es equilátero, isósceles o escaleno según sus lados."
      ],
      "metadata": {
        "id": "UeevgiSRhCZO"
      }
    },
    {
      "cell_type": "code",
      "source": [
        "L1=int(input('Ingrese el lado 1:'))\n",
        "L2=int(input('Ingrese el lado 2:'))\n",
        "L3=int(input('Ingrese el lado 3:'))"
      ],
      "metadata": {
        "id": "I0NY1jcohB_q"
      },
      "execution_count": null,
      "outputs": []
    },
    {
      "cell_type": "code",
      "source": [
        "if L1 == L2:\n",
        "  if L2 == L3:\n",
        "    print('El triángulo es equilátero')\n",
        "  else:\n",
        "    print('El triángulo es isósceles')\n",
        "else:\n",
        "  if L1 == L3:\n",
        "    print('El triángulo es isósceles')\n",
        "  else:\n",
        "    if L2 == L3:\n",
        "      print('El triángulo es isósceles')\n",
        "    else:\n",
        "      print('El triángulo es escaleno')"
      ],
      "metadata": {
        "id": "djwS0WBnh4VD"
      },
      "execution_count": null,
      "outputs": []
    },
    {
      "cell_type": "code",
      "source": [
        "if L1 == L2 and L2 == L3: print('El triángulo es equilátero')\n",
        "elif L1 == L2 or L2 == L3 or L1 == L3: print('El triángulo es isósceles')\n",
        "else: print('El triángulo es escaleno')"
      ],
      "metadata": {
        "id": "b7laMtrZiH1P"
      },
      "execution_count": null,
      "outputs": []
    },
    {
      "cell_type": "code",
      "source": [
        "match L1:\n",
        "    case L1 if L1 == L2 and L2 == L3:\n",
        "        print('El triángulo es equilátero')\n",
        "    case L1 if L1 == L2 or L1 == L3 or L2 == L3:\n",
        "        print('El triángulo es isósceles')\n",
        "    case _:\n",
        "        print('El triángulo es escaleno')"
      ],
      "metadata": {
        "id": "LyhJNRGMiWsU"
      },
      "execution_count": null,
      "outputs": []
    },
    {
      "cell_type": "code",
      "source": [
        "print('El triángulo es equilátero') if L1 == L2 and L2 == L3 else print('El triángulo es isósceles') if L1 == L2 or L1 == L3 or L2 == L3 else print('El triángulo es escaleno')"
      ],
      "metadata": {
        "id": "xxyR4f9Qignx"
      },
      "execution_count": null,
      "outputs": []
    }
  ]
}