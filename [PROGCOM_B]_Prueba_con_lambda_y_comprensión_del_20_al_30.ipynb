{
  "nbformat": 4,
  "nbformat_minor": 0,
  "metadata": {
    "colab": {
      "provenance": []
    },
    "kernelspec": {
      "name": "python3",
      "display_name": "Python 3"
    },
    "language_info": {
      "name": "python"
    }
  },
  "cells": [
    {
      "cell_type": "markdown",
      "source": [
        "20. Escribe un programa que adivine entre un conjunto de diez colores definidos por el usuario, con un máximo de 10 intentos."
      ],
      "metadata": {
        "id": "x0iPRvpImwdo"
      }
    },
    {
      "cell_type": "code",
      "execution_count": 1,
      "metadata": {
        "id": "GrisdqWjkqaW"
      },
      "outputs": [],
      "source": [
        "import random\n",
        "colores = [\"rojo\", \"azul\", \"verde\", \"amarillo\", \"dorado\", \"morado\", \"futsia\", \"gris\", \"negro\", \"blanco\"]\n",
        "color_elegido = input(\"Elige un color de la lista: \" + \", \".join(colores) + \": \").strip().lower()\n",
        "if color_elegido in colores:\n",
        "    colores_restantes = colores.copy()\n",
        "    for intento in range(10):\n",
        "        color_adivinado = random.choice(colores_restantes)\n",
        "        respuesta = input(f\"Intento {intento + 1}: ¿Es {color_adivinado}? (sí/no): \").strip().lower()\n",
        "        if respuesta == 'sí':\n",
        "            print(f\"¡He adivinado tu color! Es {color_adivinado}.\")\n",
        "            break\n",
        "        colores_restantes = [c for c in colores_restantes if c != color_adivinado]\n",
        "else:\n",
        "    print(\"Color no válido.\")"
      ]
    },
    {
      "cell_type": "code",
      "source": [
        "import random\n",
        "colores = [\"rojo\", \"azul\", \"verde\", \"amarillo\", \"dorado\", \"morado\", \"futsia\", \"gris\", \"negro\", \"blanco\"]\n",
        "color_elegido = input(\"Elige un color de la lista: \" + \", \".join(colores) + \": \").strip().lower()\n",
        "if color_elegido in colores:\n",
        "    colores_restantes = colores.copy()\n",
        "    ver_respuesta = lambda r: r == 'sí'\n",
        "    for intento in range(10):\n",
        "        color_adivinado = random.choice(colores_restantes)\n",
        "        respuesta = input(f\"Intento {intento + 1}: ¿Es {color_adivinado}? (sí/no): \").strip().lower()\n",
        "        if ver_respuesta(respuesta):\n",
        "            print(f\"¡He adivinado tu color! Es {color_adivinado}.\")\n",
        "            break\n",
        "        colores_restantes = [c for c in colores_restantes if c != color_adivinado]\n",
        "else:\n",
        "    print(\"Color no válido.\")"
      ],
      "metadata": {
        "id": "ArtAbugxobUu"
      },
      "execution_count": null,
      "outputs": []
    },
    {
      "cell_type": "markdown",
      "source": [
        "21. Desarrolla un programa que muestre los números pares del 1 al 100."
      ],
      "metadata": {
        "id": "WAIkgjcvobot"
      }
    },
    {
      "cell_type": "code",
      "source": [
        "numeros_pares = [num for num in range(1, 101) if num % 2 == 0]\n",
        "print(\"Números pares del 1 al 100:\")\n",
        "print(numeros_pares)"
      ],
      "metadata": {
        "colab": {
          "base_uri": "https://localhost:8080/"
        },
        "id": "pp9gjg_mo748",
        "outputId": "c4cc4ee6-3c21-434c-d8c3-19b315f20902"
      },
      "execution_count": 2,
      "outputs": [
        {
          "output_type": "stream",
          "name": "stdout",
          "text": [
            "Números pares del 1 al 100:\n",
            "[2, 4, 6, 8, 10, 12, 14, 16, 18, 20, 22, 24, 26, 28, 30, 32, 34, 36, 38, 40, 42, 44, 46, 48, 50, 52, 54, 56, 58, 60, 62, 64, 66, 68, 70, 72, 74, 76, 78, 80, 82, 84, 86, 88, 90, 92, 94, 96, 98, 100]\n"
          ]
        }
      ]
    },
    {
      "cell_type": "code",
      "source": [
        "numeros = range(1, 101)\n",
        "numeros_pares = list(filter(lambda num: num % 2 == 0, numeros))\n",
        "print(\"Números pares del 1 al 100:\")\n",
        "print(numeros_pares)"
      ],
      "metadata": {
        "colab": {
          "base_uri": "https://localhost:8080/"
        },
        "id": "8NGDztyvpAZc",
        "outputId": "fd389f11-dddd-4908-dc20-35a74c4f9b73"
      },
      "execution_count": 3,
      "outputs": [
        {
          "output_type": "stream",
          "name": "stdout",
          "text": [
            "Números pares del 1 al 100:\n",
            "[2, 4, 6, 8, 10, 12, 14, 16, 18, 20, 22, 24, 26, 28, 30, 32, 34, 36, 38, 40, 42, 44, 46, 48, 50, 52, 54, 56, 58, 60, 62, 64, 66, 68, 70, 72, 74, 76, 78, 80, 82, 84, 86, 88, 90, 92, 94, 96, 98, 100]\n"
          ]
        }
      ]
    },
    {
      "cell_type": "markdown",
      "source": [
        "22. Crea un programa que calcule la suma de los dígitos de un número."
      ],
      "metadata": {
        "id": "JtcAEFjJpLn8"
      }
    },
    {
      "cell_type": "code",
      "source": [
        "numero = input(\"Ingrese un número: \")\n",
        "suma_digitos = sum(int(digito) for digito in numero)\n",
        "print(f\"La suma de los dígitos de {numero} es: {suma_digitos}\")"
      ],
      "metadata": {
        "colab": {
          "base_uri": "https://localhost:8080/"
        },
        "id": "dNsv71LlpQGs",
        "outputId": "4ddf0768-e0fe-4ea6-9de1-2e4c2e6a8694"
      },
      "execution_count": 4,
      "outputs": [
        {
          "output_type": "stream",
          "name": "stdout",
          "text": [
            "Ingrese un número: 5\n",
            "La suma de los dígitos de 5 es: 5\n"
          ]
        }
      ]
    },
    {
      "cell_type": "code",
      "source": [
        "numero = input(\"Ingrese un número: \")\n",
        "suma_digitos = sum(map(lambda digito: int(digito), numero))\n",
        "print(f\"La suma de los dígitos de {numero} es: {suma_digitos}\")"
      ],
      "metadata": {
        "colab": {
          "base_uri": "https://localhost:8080/"
        },
        "id": "9XtKMMrFpfWc",
        "outputId": "5bf1fe2b-07b2-445f-9338-7f0c6cfb6397"
      },
      "execution_count": 5,
      "outputs": [
        {
          "output_type": "stream",
          "name": "stdout",
          "text": [
            "Ingrese un número: 75\n",
            "La suma de los dígitos de 75 es: 12\n"
          ]
        }
      ]
    },
    {
      "cell_type": "markdown",
      "source": [
        "23. Escribe un programa que determine si un número es primo."
      ],
      "metadata": {
        "id": "VQo_i3TDpuMk"
      }
    },
    {
      "cell_type": "code",
      "source": [
        "numero = int(input(\"Ingrese un número: \"))\n",
        "es_primo = all(num % i != 0 for i in range(2, int(numero**0.5) + 1)) and numero > 1\n",
        "if es_primo:\n",
        "    print(f\"{numero} es un número primo.\")\n",
        "else:\n",
        "    print(f\"{numero} no es un número primo.\")"
      ],
      "metadata": {
        "id": "QDxCNJQbpymk"
      },
      "execution_count": null,
      "outputs": []
    },
    {
      "cell_type": "code",
      "source": [
        "numero = int(input(\"Ingrese un número: \"))\n",
        "es_primo = lambda n: n > 1 and all(n % i != 0 for i in range(2, int(n**0.5) + 1))\n",
        "if es_primo(numero):\n",
        "    print(f\"{numero} es un número primo.\")\n",
        "else:\n",
        "    print(f\"{numero} no es un número primo.\")"
      ],
      "metadata": {
        "id": "lrVj26-PpzAE"
      },
      "execution_count": null,
      "outputs": []
    },
    {
      "cell_type": "markdown",
      "source": [
        "24. Desarrolla un programa que muestre el patrón de un triángulo con asteriscos."
      ],
      "metadata": {
        "id": "PJrPo_84qOYb"
      }
    },
    {
      "cell_type": "code",
      "source": [
        "altura = int(input(\"Ingrese la altura del triángulo: \"))\n",
        "triangulo = ['*' * (i + 1) for i in range(altura)]\n",
        "for fila in triangulo:\n",
        "    print(fila)"
      ],
      "metadata": {
        "id": "TARyfStDqa07"
      },
      "execution_count": null,
      "outputs": []
    },
    {
      "cell_type": "code",
      "source": [
        "altura = int(input(\"Ingrese la altura del triángulo: \"))\n",
        "mostrar_triangulo = lambda h: [print('*' * (i + 1)) for i in range(h)]\n",
        "mostrar_triangulo(altura)"
      ],
      "metadata": {
        "id": "WsI2Bc7sqjEd"
      },
      "execution_count": null,
      "outputs": []
    },
    {
      "cell_type": "markdown",
      "source": [
        "25. Crea un programa que calcule la potencia de un número sin usar el operador **."
      ],
      "metadata": {
        "id": "ST9xs4StqsWN"
      }
    },
    {
      "cell_type": "code",
      "source": [
        "base = int(input(\"Ingrese la base: \"))\n",
        "exponente = int(input(\"Ingrese el exponente: \"))\n",
        "resultado = 1\n",
        "resultado = [resultado := resultado * base for _ in range(exponente)][-1]\n",
        "print(f\"{base} elevado a {exponente} es: {resultado}\")"
      ],
      "metadata": {
        "colab": {
          "base_uri": "https://localhost:8080/"
        },
        "id": "jmY3edqsqv4j",
        "outputId": "ec957ef6-f6b5-45fc-894a-da22e3cea396"
      },
      "execution_count": 7,
      "outputs": [
        {
          "output_type": "stream",
          "name": "stdout",
          "text": [
            "Ingrese la base: 4\n",
            "Ingrese el exponente: 2\n",
            "4 elevado a 2 es: 16\n"
          ]
        }
      ]
    },
    {
      "cell_type": "code",
      "source": [
        "base = int(input(\"Ingrese la base: \"))\n",
        "exponente = int(input(\"Ingrese el exponente: \"))\n",
        "calcular_potencia = lambda b, e: 1 if e == 0 else b * calcular_potencia(b, e - 1)\n",
        "resultado = calcular_potencia(base, exponente)\n",
        "print(f\"{base} elevado a {exponente} es: {resultado}\")"
      ],
      "metadata": {
        "colab": {
          "base_uri": "https://localhost:8080/"
        },
        "id": "rBVojYD_qwJT",
        "outputId": "8eb087ee-b23b-428a-d134-c861e9e04380"
      },
      "execution_count": 6,
      "outputs": [
        {
          "output_type": "stream",
          "name": "stdout",
          "text": [
            "Ingrese la base: 20\n",
            "Ingrese el exponente: 3\n",
            "20 elevado a 3 es: 8000\n"
          ]
        }
      ]
    },
    {
      "cell_type": "markdown",
      "source": [
        "26. Escribe un programa que muestre todas las tablas de multiplicar del 1 al 10."
      ],
      "metadata": {
        "id": "knJXwa6jrL8F"
      }
    },
    {
      "cell_type": "code",
      "source": [
        "tablas_multiplicar = [f\"Tabla del {i}:\\n\" + \"\\n\".join(f\"{i} x {j} = {i * j}\" for j in range(1, 11)) for i in range(1, 11)]\n",
        "for tabla in tablas_multiplicar:\n",
        "    print(tabla)"
      ],
      "metadata": {
        "id": "Sp4NBuSkrY1K"
      },
      "execution_count": null,
      "outputs": []
    },
    {
      "cell_type": "code",
      "source": [
        "mostrar_tablas = lambda: [print(f\"Tabla del {i}:\\n\" + \"\\n\".join(f\"{i} x {j} = {i * j}\" for j in range(1, 11))) for i in range(1, 11)]\n",
        "mostrar_tablas()"
      ],
      "metadata": {
        "id": "UszZXRFBrkG9"
      },
      "execution_count": null,
      "outputs": []
    },
    {
      "cell_type": "markdown",
      "source": [
        "27. Desarrolla un programa que encuentre todos los números perfectos hasta n."
      ],
      "metadata": {
        "id": "kxNihJDkrp8S"
      }
    },
    {
      "cell_type": "code",
      "source": [
        "n = int(input(\"Ingrese un número: \"))\n",
        "numeros_perfectos = [num for num in range(1, n + 1) if sum(i for i in range(1, num) if num % i == 0) == num]\n",
        "print(f\"Números perfectos hasta {n}: {numeros_perfectos}\")"
      ],
      "metadata": {
        "id": "aVRZ_IYqrxBS"
      },
      "execution_count": null,
      "outputs": []
    },
    {
      "cell_type": "code",
      "source": [
        "n = int(input(\"Ingrese un número: \"))\n",
        "es_perfecto = lambda num: sum(i for i in range(1, num) if num % i == 0) == num\n",
        "numeros_perfectos = list(filter(es_perfecto, range(1, n + 1)))\n",
        "print(f\"Números perfectos hasta {n}: {numeros_perfectos}\")"
      ],
      "metadata": {
        "id": "EUAtheLur4cj"
      },
      "execution_count": null,
      "outputs": []
    },
    {
      "cell_type": "markdown",
      "source": [
        "28. Crea un programa que genere un patrón de diamante con asteriscos."
      ],
      "metadata": {
        "id": "5K476nQnsG5q"
      }
    },
    {
      "cell_type": "code",
      "source": [
        "altura = int(input(\"Ingrese la altura del diamante (número impar): \"))\n",
        "if altura % 2 == 0:\n",
        "    print(\"Por favor, ingrese un número impar.\")\n",
        "else:\n",
        "    diamante = [' ' * (altura // 2 - i) + '*' * (2 * i + 1) for i in range(altura // 2 + 1)]\n",
        "    diamante += [' ' * (i + 1) + '*' * (altura - 2 * (i + 1)) for i in range(altura // 2)]\n",
        "    for fila in diamante:\n",
        "        print(fila)"
      ],
      "metadata": {
        "id": "lZG-Q6mIsKyd"
      },
      "execution_count": null,
      "outputs": []
    },
    {
      "cell_type": "code",
      "source": [
        "altura = int(input(\"Ingrese la altura del diamante (número impar): \"))\n",
        "if altura % 2 == 0:\n",
        "    print(\"Por favor, ingrese un número impar.\")\n",
        "else:\n",
        "    mostrar_diamante = lambda h: [\n",
        "        print(' ' * (h // 2 - i) + '*' * (2 * i + 1)) for i in range(h // 2 + 1)\n",
        "    ] + [\n",
        "        print(' ' * (i + 1) + '*' * (h - 2 * (i + 1))) for i in range(h // 2)\n",
        "    ]\n",
        "\n",
        "    mostrar_diamante(altura)"
      ],
      "metadata": {
        "colab": {
          "base_uri": "https://localhost:8080/"
        },
        "id": "WZGtQ7E3sLHZ",
        "outputId": "6a16bc29-83a3-47e1-a9a6-79979bb293b5"
      },
      "execution_count": 10,
      "outputs": [
        {
          "output_type": "stream",
          "name": "stdout",
          "text": [
            "Ingrese la altura del diamante (número impar): 5\n",
            "  *\n",
            " ***\n",
            "*****\n",
            " ***\n",
            "  *\n"
          ]
        }
      ]
    },
    {
      "cell_type": "markdown",
      "source": [
        "29. Escribe un programa que encuentre todos los números Armstrong hasta n."
      ],
      "metadata": {
        "id": "4--q6Vp7tQQU"
      }
    },
    {
      "cell_type": "code",
      "source": [
        "n = int(input(\"Ingrese un número: \"))\n",
        "numeros_armstrong = [\n",
        "    num for num in range(n + 1)\n",
        "    if num == sum(int(digito) ** len(str(num)) for digito in str(num))\n",
        "]\n",
        "print(f\"Números Armstrong hasta {n}: {numeros_armstrong}\")"
      ],
      "metadata": {
        "id": "Al3l__GttVCJ"
      },
      "execution_count": null,
      "outputs": []
    },
    {
      "cell_type": "code",
      "source": [
        "n = int(input(\"Ingrese un número: \"))\n",
        "es_armstrong = lambda num: num == sum(int(digito) ** len(str(num)) for digito in str(num))\n",
        "numeros_armstrong = list(filter(es_armstrong, range(n + 1)))\n",
        "print(f\"Números Armstrong hasta {n}: {numeros_armstrong}\")"
      ],
      "metadata": {
        "id": "bpS1tnEHtcjk"
      },
      "execution_count": null,
      "outputs": []
    },
    {
      "cell_type": "markdown",
      "source": [
        "30. Desarrolla un programa que simule un reloj digital mostrando horas, minutos y segundos durante un período específico."
      ],
      "metadata": {
        "id": "_RukvXbUtqg4"
      }
    },
    {
      "cell_type": "code",
      "source": [
        "import time\n",
        "duracion = int(input(\"Introduce lo que demora en segundos: \"))\n",
        "for t in range(duracion + 1):\n",
        "    print(f\"{t // 3600:02}:{(t % 3600) // 60:02}:{t % 60:02}\", end='\\r')\n",
        "    time.sleep(1)\n",
        "print(\"Tiempo terminado!\")"
      ],
      "metadata": {
        "colab": {
          "base_uri": "https://localhost:8080/"
        },
        "id": "fE61uld9tzcJ",
        "outputId": "0648db8e-9a4f-4f94-b6b0-4885a78a95de"
      },
      "execution_count": 14,
      "outputs": [
        {
          "output_type": "stream",
          "name": "stdout",
          "text": [
            "Introduce la duración en segundos: 60\n",
            "Tiempo agotado!\n"
          ]
        }
      ]
    },
    {
      "cell_type": "code",
      "source": [
        "import time\n",
        "duracion = int(input(\"Introduce lo que demora en segundos: \"))\n",
        "formatear_tiempo = lambda t: f\"{t // 3600:02}:{(t % 3600) // 60:02}:{t % 60:02}\"\n",
        "for t in range(duracion + 1):\n",
        "    print(formatear_tiempo(t), end='\\r')\n",
        "    time.sleep(1)\n",
        "print(\"Tiempo terminado!\")"
      ],
      "metadata": {
        "colab": {
          "base_uri": "https://localhost:8080/"
        },
        "id": "Su5I5b50t2JY",
        "outputId": "2a4ab44e-3200-4cc4-c211-79fde4432c72"
      },
      "execution_count": null,
      "outputs": [
        {
          "output_type": "stream",
          "name": "stdout",
          "text": [
            "Introduce lo que demora en segundos: 70\n"
          ]
        }
      ]
    }
  ]
}