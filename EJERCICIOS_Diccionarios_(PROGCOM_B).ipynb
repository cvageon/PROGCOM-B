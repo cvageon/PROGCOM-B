{
  "nbformat": 4,
  "nbformat_minor": 0,
  "metadata": {
    "colab": {
      "provenance": []
    },
    "kernelspec": {
      "name": "python3",
      "display_name": "Python 3"
    },
    "language_info": {
      "name": "python"
    }
  },
  "cells": [
    {
      "cell_type": "markdown",
      "source": [
        "## 1.Desarrolla un programa que valide si tres números pueden formar un triángulo y de qué tipo es."
      ],
      "metadata": {
        "id": "n9ToSBDKtO5s"
      }
    },
    {
      "cell_type": "code",
      "execution_count": null,
      "metadata": {
        "id": "qqAsc_bBd-Xt"
      },
      "outputs": [],
      "source": [
        "def tipo_triangulo(a, b, c):\n",
        "\n",
        "  lados = {\"a\": a, \"b\": b, \"c\": c}\n",
        "  if not (a + b > c and a + c > b and b + c > a):\n",
        "      return {\"valido\": False, \"mensaje\": \"No se puede formar un triángulo con estos lados.\"}\n",
        "  if a == b == c:\n",
        "    tipo = \"Equilátero\"\n",
        "  elif a == b or a == c or b == c:\n",
        "    tipo = \"Isósceles\"\n",
        "  else:\n",
        "    tipo = \"Escaleno\"\n",
        "  if a**2 + b**2 == c**2 or a**2 + c**2 == b**2 or b**2 + c**2 == a**2:\n",
        "      tipo += \" y Rectángulo\"\n",
        "\n",
        "  return {\"valido\": True, \"tipo\": tipo, \"lados\": lados}\n",
        "\n",
        "lado_a = float(input(\"Introduce la longitud del lado a: \"))\n",
        "lado_b = float(input(\"Introduce la longitud del lado b: \"))\n",
        "lado_c = float(input(\"Introduce la longitud del lado c: \"))\n",
        "resultado = tipo_triangulo(lado_a, lado_b, lado_c)\n",
        "if resultado[\"valido\"]:\n",
        "  print(f\"El triángulo es {resultado['tipo']}.\")\n",
        "  print(f\"Lados: a={resultado['lados']['a']}, b={resultado['lados']['b']}, c={resultado['lados']['c']}\")\n",
        "else:\n",
        "    print(resultado[\"mensaje\"])\n"
      ]
    },
    {
      "cell_type": "markdown",
      "source": [
        "## 2. Crea un programa que muestre la tabla de multiplicar de un número hasta el 10."
      ],
      "metadata": {
        "id": "Qwf2sllCtV_T"
      }
    },
    {
      "cell_type": "code",
      "source": [
        "def tabla_multiplicar(numero):\n",
        "  tabla = {}\n",
        "  for i in range(1, 11):\n",
        "    tabla[i] = numero * i\n",
        "  return tabla\n",
        "numero = int(input(\"Introduce un número para mostrar su tabla de multiplicar: \"))\n",
        "tabla = tabla_multiplicar(numero)\n",
        "print(f\"Tabla de multiplicar del {numero}:\")\n",
        "for i, resultado in tabla.items():\n",
        "    print(f\"{numero} x {i} = {resultado}\")"
      ],
      "metadata": {
        "id": "spXUGUK_tcy_"
      },
      "execution_count": null,
      "outputs": []
    },
    {
      "cell_type": "markdown",
      "source": [
        "## 3. Escribe un programa que calcule la suma de números naturales hasta n."
      ],
      "metadata": {
        "id": "mNBskKjKthK8"
      }
    },
    {
      "cell_type": "code",
      "source": [
        "def suma_naturales(n):\n",
        "  suma = 0\n",
        "  numeros = {}\n",
        "  for i in range(1, n + 1):\n",
        "    suma += i\n",
        "    numeros[i] = i\n",
        "\n",
        "  return {\"suma\": suma, \"numeros\": numeros}\n",
        "\n",
        "n = int(input(\"Introduce un número entero positivo: \"))\n",
        "resultado = suma_naturales(n)\n",
        "print(f\"La suma de los números naturales hasta {n} es: {resultado['suma']}\")\n",
        "print(f\"Números utilizados en la suma: {resultado['numeros']}\")"
      ],
      "metadata": {
        "id": "JCS-JwvmtoQO"
      },
      "execution_count": null,
      "outputs": []
    },
    {
      "cell_type": "markdown",
      "source": [
        "## 4. Desarrolla un programa que calcule el factorial de un número. Recuerda que el factorial de 0 es 1 y no existen factoriales negativos."
      ],
      "metadata": {
        "id": "fkZp6sB7trTd"
      }
    },
    {
      "cell_type": "code",
      "source": [
        "def factorial(n):\n",
        "  if n < 0:\n",
        "    return \"No existe factorial de números negativos.\"\n",
        "  elif n == 0:\n",
        "    return 1\n",
        "  else:\n",
        "    fact = 1\n",
        "\n",
        "    factoriales_calculados = {}\n",
        "\n",
        "    for i in range(1, n + 1):\n",
        "      fact *= i\n",
        "      factoriales_calculados[i] = fact\n",
        "\n",
        "    return fact\n",
        "\n",
        "numero = int(input(\"Introduce un número entero no negativo: \"))\n",
        "resultado = factorial(numero)\n",
        "print(f\"El factorial de {numero} es: {resultado}\")"
      ],
      "metadata": {
        "id": "8ryfD4UCtxkD"
      },
      "execution_count": null,
      "outputs": []
    },
    {
      "cell_type": "markdown",
      "source": [
        "## 5. Crea un programa que muestre los primeros n números de la serie Fibonacci."
      ],
      "metadata": {
        "id": "6PdVYsi2t3Wj"
      }
    },
    {
      "cell_type": "code",
      "source": [
        "def fibonacci(n):\n",
        "  fib_sequence = {}\n",
        "  a, b = 0, 1\n",
        "  for i in range(n):\n",
        "    fib_sequence[i] = a\n",
        "    a, b = b, a + b\n",
        "  return fib_sequence\n",
        "n = int(input(\"Introduce el número de términos de la serie Fibonacci que deseas mostrar: \"))\n",
        "secuencia = fibonacci(n)\n",
        "for i in secuencia:\n",
        "  print(secuencia[i], end=\" \")"
      ],
      "metadata": {
        "id": "uEyiqI7Ct7FD"
      },
      "execution_count": null,
      "outputs": []
    },
    {
      "cell_type": "markdown",
      "source": [
        "## 6. Escribe un programa que adivine entre un conjunto de diez colores definidos por el usuario, con un máximo de 10 intentos."
      ],
      "metadata": {
        "id": "1Ax13XRXt-Ib"
      }
    },
    {
      "cell_type": "code",
      "source": [
        "import random\n",
        "\n",
        "def adivina_color():\n",
        "    colores = {}\n",
        "    for i in range(10):\n",
        "        while True:\n",
        "            color = input(f\"Introduce el color número {i+1}: \")\n",
        "            if color not in colores and color.isalpha():  # Verifica si el color es válido y no está repetido\n",
        "                colores[color] = 0 # Se agrega un valor 0, se usa la key del color\n",
        "                break\n",
        "            else:\n",
        "                print(\"Color no válido o repetido. Intenta de nuevo.\")\n",
        "\n",
        "    color_secreto = random.choice(list(colores.keys())) # Se escoge un color aleatorio\n",
        "    intentos = 0\n",
        "    adivinado = False\n",
        "\n",
        "    print(\"\\n¡Adivina el color secreto!\")\n",
        "\n",
        "    while intentos < 10 and not adivinado:\n",
        "        intento = input(f\"Intento {intentos + 1}: \")\n",
        "        intentos += 1\n",
        "\n",
        "        if intento in colores: # Se verifica si es un color valido\n",
        "          if intento.lower() == color_secreto.lower():\n",
        "              adivinado = True\n",
        "              print(f\"¡Correcto! El color secreto era {color_secreto}. Adivinaste en {intentos} intentos.\")\n",
        "          else:\n",
        "              print(\"Incorrecto. Intenta de nuevo.\")\n",
        "        else:\n",
        "          print(\"Ese no es un color válido.\")\n",
        "\n",
        "    if not adivinado:\n",
        "        print(f\"No adivinaste el color secreto. Era {color_secreto}.\")\n",
        "\n",
        "adivina_color()\n"
      ],
      "metadata": {
        "id": "Q2FikKnHuFBD"
      },
      "execution_count": null,
      "outputs": []
    },
    {
      "cell_type": "markdown",
      "source": [
        "## 7.Desarrolla un programa que muestre los números pares del 1 al 100."
      ],
      "metadata": {
        "id": "K_X9KtzvucWt"
      }
    },
    {
      "cell_type": "code",
      "source": [
        "def even_numbers():\n",
        "  even_dict = {}\n",
        "  for i in range(2, 101, 2):\n",
        "    even_dict[i] = i\n",
        "  print(\"Números pares del 1 al 100:\")\n",
        "  for key, value in even_dict.items():\n",
        "    print(value, end=\" \")\n",
        "even_numbers()"
      ],
      "metadata": {
        "id": "e-1bcpLxujll"
      },
      "execution_count": null,
      "outputs": []
    },
    {
      "cell_type": "markdown",
      "source": [
        "## 8. Crea un programa que calcule la suma de los dígitos de un número."
      ],
      "metadata": {
        "id": "B9qpjnKMumQC"
      }
    },
    {
      "cell_type": "code",
      "source": [
        "def sum_digits(number):\n",
        "\n",
        "  if not isinstance(number, int):\n",
        "    return\n",
        "  digit_values = {}\n",
        "  number_str = str(abs(number))\n",
        "  digit_sum = 0\n",
        "  for digit in number_str:\n",
        "    digit_sum += int(digit)\n",
        "    digit_values[digit] = int(digit)\n",
        "  return digit_sum, digit_values\n",
        "number = 12345\n",
        "digit_sum, digit_values = sum_digits(number)\n",
        "\n",
        "print(f\"The sum of the digits of {number} is: {digit_sum}\")\n",
        "print(f\"Digit values: {digit_values}\")\n",
        "number = -12345\n",
        "digit_sum, digit_values = sum_digits(number)\n",
        "print(f\"The sum of the digits of {number} is: {digit_sum}\")\n",
        "print(f\"Digit values: {digit_values}\")\n",
        "number = 12.5\n",
        "result = sum_digits(number)\n",
        "print(f\"Result: {result}\")"
      ],
      "metadata": {
        "id": "LOR79SMYu2R6"
      },
      "execution_count": null,
      "outputs": []
    },
    {
      "cell_type": "markdown",
      "source": [
        "##9. Escribe un programa que determine si un número es primo.\n"
      ],
      "metadata": {
        "id": "KJYQPOWxu4c6"
      }
    },
    {
      "cell_type": "code",
      "source": [
        "def es_primo(numero):\n",
        "  primos_encontrados = {}\n",
        "  if numero <= 1:\n",
        "    return {\"es_primo\": False, \"primos_encontrados\": primos_encontrados}\n",
        "  for i in range(2, int(numero**0.5) + 1):\n",
        "    if numero % i == 0:\n",
        "      return {\"es_primo\": False, \"primos_encontrados\": primos_encontrados}\n",
        "    else:\n",
        "      if i not in primos_encontrados:\n",
        "          primos_encontrados[i] = i\n",
        "  primos_encontrados[numero] = numero\n",
        "  return {\"es_primo\": True, \"primos_encontrados\": primos_encontrados}\n",
        "\n",
        "numero = int(input(\"Introduce un número entero positivo: \"))\n",
        "resultado = es_primo(numero)\n",
        "\n",
        "if resultado[\"es_primo\"]:\n",
        "    print(f\"{numero} es un número primo.\")\n",
        "    print(\"Números primos encontrados:\", resultado[\"primos_encontrados\"])\n",
        "else:\n",
        "    print(f\"{numero} no es un número primo.\")\n",
        "    print(\"Números primos encontrados:\", resultado[\"primos_encontrados\"])"
      ],
      "metadata": {
        "id": "1dylSgBWvN0L"
      },
      "execution_count": null,
      "outputs": []
    },
    {
      "cell_type": "markdown",
      "source": [
        "## 10. Desarrolla un programa que muestre el patrón de un triángulo con asteriscos."
      ],
      "metadata": {
        "id": "PChrP2q1vNYC"
      }
    },
    {
      "cell_type": "code",
      "source": [
        "def triangle_pattern(rows):\n",
        "    for i in range(1, rows + 1):\n",
        "        spaces = \" \" * (rows - i)\n",
        "        stars = \"*\" * (2 * i - 1)\n",
        "        print(spaces + stars)\n",
        "\n",
        "rows = int(input(\"Enter the number of rows for the triangle: \"))\n",
        "triangle_pattern(rows)"
      ],
      "metadata": {
        "id": "i_n1835UvUiK"
      },
      "execution_count": null,
      "outputs": []
    },
    {
      "cell_type": "markdown",
      "source": [
        "## 11. Crea un programa que calcule la potencia de un número sin usar el operador **."
      ],
      "metadata": {
        "id": "K1yfFtJhvWty"
      }
    },
    {
      "cell_type": "code",
      "source": [
        "def potencia(base, exponente):\n",
        "  if exponente == 0:\n",
        "    return 1\n",
        "  elif exponente < 0:\n",
        "    return 1 / potencia(base, -exponente)\n",
        "  else:\n",
        "    resultado = 1\n",
        "    for _ in range(exponente):\n",
        "      resultado *= base\n",
        "    return resultado\n",
        "\n",
        "base = float(input(\"Introduce la base: \"))\n",
        "exponente = int(input(\"Introduce el exponente: \"))\n",
        "resultado = potencia(base, exponente)\n",
        "print(f\"{base} elevado a {exponente} es igual a {resultado}\")"
      ],
      "metadata": {
        "id": "9JyOSiVGvYia"
      },
      "execution_count": null,
      "outputs": []
    },
    {
      "cell_type": "markdown",
      "source": [
        "## 3. EJERCICIOS"
      ],
      "metadata": {
        "id": "kFIcbssxvpQx"
      }
    },
    {
      "cell_type": "markdown",
      "source": [
        "## 1. todos los numeros divisibles por 6 del 1 al 60"
      ],
      "metadata": {
        "id": "6OP1jlyavfwi"
      }
    },
    {
      "cell_type": "code",
      "source": [
        "def divisibles_por_seis():\n",
        "\n",
        "  divisibles = {}\n",
        "  for i in range(1, 61):\n",
        "    if i % 6 == 0:\n",
        "      divisibles[i] = i\n",
        "  return divisibles\n",
        "numeros_divisibles = divisibles_por_seis()\n",
        "numeros_divisibles"
      ],
      "metadata": {
        "id": "e7JRyHQavxi6"
      },
      "execution_count": null,
      "outputs": []
    },
    {
      "cell_type": "markdown",
      "source": [
        "## 2. todos los nombre que empiecen por a en una lista de nombres"
      ],
      "metadata": {
        "id": "AL3IKsyYv0Ll"
      }
    },
    {
      "cell_type": "code",
      "source": [
        "def nombres_con_a(lista_nombres):\n",
        "    nombres_a = []\n",
        "    for nombre in lista_nombres:\n",
        "        if nombre.startswith(\"A\") or nombre.startswith(\"a\"):\n",
        "            nombres_a.append(nombre)\n",
        "    return nombres_a\n",
        "nombres = [\"Ana\", \"Pedro\", \"Alberto\", \"Carlos\", \"Antonela\", \"Felipe\"]\n",
        "nombres_que_empiezan_con_a = nombres_con_a(nombres)\n",
        "nombres_que_empiezan_con_a\n"
      ],
      "metadata": {
        "id": "iZZK0-aNv4rB"
      },
      "execution_count": null,
      "outputs": []
    },
    {
      "cell_type": "markdown",
      "source": [
        "## 3. odos los numeros primos entre 0 y 70"
      ],
      "metadata": {
        "id": "yXzLHBOuv89E"
      }
    },
    {
      "cell_type": "code",
      "source": [
        "def primos_hasta_70():\n",
        "    primos = {}\n",
        "    for num in range(2, 71):\n",
        "        es_primo = True\n",
        "        for i in range(2, int(num**0.5) + 1):\n",
        "            if num % i == 0:\n",
        "                es_primo = False\n",
        "                break\n",
        "        if es_primo:\n",
        "            primos[num] = num\n",
        "    return primos\n",
        "primos = primos_hasta_70()\n",
        "print(*primos.keys())"
      ],
      "metadata": {
        "id": "GWTRDXBbwB3E"
      },
      "execution_count": null,
      "outputs": []
    }
  ]
}