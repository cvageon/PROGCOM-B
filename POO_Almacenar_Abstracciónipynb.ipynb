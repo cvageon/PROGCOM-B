{
  "nbformat": 4,
  "nbformat_minor": 0,
  "metadata": {
    "colab": {
      "provenance": []
    },
    "kernelspec": {
      "name": "python3",
      "display_name": "Python 3"
    },
    "language_info": {
      "name": "python"
    }
  },
  "cells": [
    {
      "cell_type": "markdown",
      "source": [
        "Emular el comportamiento de un sensor de humedad que registra 20 tomas en un día, entre los valores\n",
        "de 0 a 10. Genere un sistema de alerta si la humedad disminuye por debajo de 3 (humedad baja) y si\n",
        "supera los 8 (alta humedad).\n",
        "De forma adicional, emule un actuador que:\n",
        "a. Si la humedad está por debajo de una medición de 3, el sistema indique que abrirá el grifo.\n",
        "b. Si la humedad está entre 3 a 8 grados de humedad y el grifo está abierto, indicará que cerrará\n",
        "el grifo.\n",
        "c. Si la humedad supera los 8 grados de humedad y si el grifo está abierto, indicará que cerrará\n",
        "el grifo. Adicionalmente indica que iniciará un sistema para absorber el agua residual.\n"
      ],
      "metadata": {
        "id": "eNad_8dB5xV2"
      }
    },
    {
      "cell_type": "code",
      "execution_count": 1,
      "metadata": {
        "colab": {
          "base_uri": "https://localhost:8080/"
        },
        "id": "iOcrR3_p5Mvp",
        "outputId": "331287f1-7c6f-4cbe-e0ec-aa9da3be3b87"
      },
      "outputs": [
        {
          "output_type": "stream",
          "name": "stdout",
          "text": [
            "[Sensor] Lecturas generadas y guardadas en 'humedad_dia.txt'\n",
            "[Actuador] Acciones registradas en 'registro_resultados.txt' (protegido solo lectura)\n"
          ]
        }
      ],
      "source": [
        "import random\n",
        "import os\n",
        "\n",
        "class SensorHumedad:\n",
        "    def __init__(self, cantidad_lecturas=20):\n",
        "        self.cantidad_lecturas = cantidad_lecturas\n",
        "        self.lecturas = []\n",
        "\n",
        "    def generar_lecturas(self):\n",
        "        self.lecturas = [round(random.uniform(0, 10), 2) for _ in range(self.cantidad_lecturas)]\n",
        "        with open(\"humedad_dia.txt\", \"w\") as archivo:\n",
        "            archivo.write(\"\\n\".join(str(l) for l in self.lecturas))\n",
        "        print(\"[Sensor] Lecturas generadas y guardadas en 'humedad_dia.txt'\")\n",
        "        return self.lecturas\n",
        "\n",
        "class ActuadorRiego:\n",
        "    def __init__(self):\n",
        "        self.grifo_abierto = False\n",
        "        self.registro_acciones = []\n",
        "\n",
        "    def procesar_lecturas(self, lecturas):\n",
        "        for i, humedad in enumerate(lecturas, start=1):\n",
        "            accion = f\"Toma {i}: Humedad = {humedad} -> \"\n",
        "            if humedad < 3:\n",
        "                if not self.grifo_abierto:\n",
        "                    self.grifo_abierto = True\n",
        "                    accion += \"ALERTA: Humedad baja. Abriendo grifo.\"\n",
        "                else:\n",
        "                    accion += \"Humedad baja. Grifo ya abierto.\"\n",
        "            elif 3 <= humedad <= 8:\n",
        "                if self.grifo_abierto:\n",
        "                    self.grifo_abierto = False\n",
        "                    accion += \"Humedad moderada. Cerrando grifo.\"\n",
        "                else:\n",
        "                    accion += \"Humedad moderada. Grifo cerrado.\"\n",
        "            elif humedad > 8:\n",
        "                if self.grifo_abierto:\n",
        "                    self.grifo_abierto = False\n",
        "                    accion += \"ALERTA: Alta humedad. Cerrando grifo e iniciando absorción.\"\n",
        "                else:\n",
        "                    accion += \"ALERTA: Alta humedad. Iniciando absorción.\"\n",
        "            self.registro_acciones.append(accion)\n",
        "\n",
        "    def guardar_registro(self, filename=\"registro_resultados.txt\"):\n",
        "        with open(filename, \"w\") as archivo:\n",
        "            archivo.write(\"\\n\".join(self.registro_acciones))\n",
        "        # Hacer el archivo solo lectura\n",
        "        os.chmod(filename, 0o444)\n",
        "        print(f\"[Actuador] Acciones registradas en '{filename}' (protegido solo lectura)\")\n",
        "\n",
        "# ====== MAIN ======\n",
        "\n",
        "sensor = SensorHumedad()\n",
        "lecturas = sensor.generar_lecturas()\n",
        "\n",
        "actuador = ActuadorRiego()\n",
        "actuador.procesar_lecturas(lecturas)\n",
        "actuador.guardar_registro()\n"
      ]
    },
    {
      "cell_type": "markdown",
      "source": [
        "Emular el comportamiento del dólar en un día. Considere que la base está en 4000 pesos y que durante\n",
        "el día tendrá subidas y bajadas. Tome al menos un registro de 20 datos, y que la aleatoriedad debe\n",
        "darse entre 0 a 2000 pesos. Si el dólar sube por encima de 5000 pesos, el sistema deberá emitir un\n",
        "comunicado sobre su subida. Si el dólar se encuentra por debajo de los 3000 pesos, se deberá emitir\n",
        "un comunicado sobre su bajada. Al terminar las 20 mediciones, el sistema debe emitir un comunicado\n",
        "que diga que el precio del dólar cerró en ese valor, e indicar si cerró a la baja (su valor fue inferior al\n",
        "valor anterior) o al alta (su valor fue superior al valor anterior)"
      ],
      "metadata": {
        "id": "2jq5O3us5r3w"
      }
    },
    {
      "cell_type": "code",
      "source": [
        "import random\n",
        "\n",
        "class DolarSimulador:\n",
        "    def __init__(self, base=4000, registros=20):\n",
        "        self.base = base\n",
        "        self.registros = registros\n",
        "        self.historico = []\n",
        "\n",
        "    def simular_dia(self):\n",
        "        precio_actual = self.base\n",
        "        for i in range(self.registros):\n",
        "            variacion = random.randint(-2000, 2000)\n",
        "            precio_actual += variacion\n",
        "            precio_actual = max(0, precio_actual)  # evitar negativos\n",
        "            self.historico.append(precio_actual)\n",
        "\n",
        "            if precio_actual > 5000:\n",
        "                print(f\"[ALERTA] Subida significativa en toma {i+1}: ${precio_actual}\")\n",
        "            elif precio_actual < 3000:\n",
        "                print(f\"[ALERTA] Bajada considerable en toma {i+1}: ${precio_actual}\")\n",
        "\n",
        "    def emitir_comunicado_final(self):\n",
        "        cierre = self.historico[-1]\n",
        "        anterior = self.historico[-2]\n",
        "        tendencia = \"al alza 📈\" if cierre > anterior else \"a la baja 📉\" if cierre < anterior else \"sin cambio\"\n",
        "        print(f\"\\n[CIERRE] El dólar cerró en ${cierre}. Tendencia final: {tendencia}.\")\n",
        "\n",
        "    def guardar_datos(self, archivo=\"registro_dolar.txt\"):\n",
        "        with open(archivo, \"w\") as f:\n",
        "            for i, precio in enumerate(self.historico, start=1):\n",
        "                f.write(f\"Toma {i}: ${precio}\\n\")\n",
        "        print(f\"[Guardado] Registro de valores guardado en '{archivo}'\")\n",
        "\n",
        "# ==== MAIN ====\n",
        "simulador = DolarSimulador()\n",
        "simulador.simular_dia()\n",
        "simulador.emitir_comunicado_final()\n",
        "simulador.guardar_datos()\n"
      ],
      "metadata": {
        "colab": {
          "base_uri": "https://localhost:8080/"
        },
        "id": "8EJfdGM55ep7",
        "outputId": "a01a9d10-d918-4cf6-f40f-f83bcce27bba"
      },
      "execution_count": 2,
      "outputs": [
        {
          "output_type": "stream",
          "name": "stdout",
          "text": [
            "[ALERTA] Subida significativa en toma 1: $5147\n",
            "[ALERTA] Bajada considerable en toma 3: $2502\n",
            "[ALERTA] Bajada considerable en toma 4: $1939\n",
            "[ALERTA] Bajada considerable en toma 5: $126\n",
            "[ALERTA] Bajada considerable en toma 6: $619\n",
            "[ALERTA] Bajada considerable en toma 7: $1864\n",
            "[ALERTA] Bajada considerable en toma 9: $1968\n",
            "[ALERTA] Bajada considerable en toma 10: $2238\n",
            "[ALERTA] Bajada considerable en toma 11: $2913\n",
            "[ALERTA] Bajada considerable en toma 12: $1733\n",
            "[ALERTA] Bajada considerable en toma 13: $2436\n",
            "[ALERTA] Bajada considerable en toma 14: $1987\n",
            "[ALERTA] Bajada considerable en toma 15: $1370\n",
            "[ALERTA] Bajada considerable en toma 16: $1030\n",
            "[ALERTA] Bajada considerable en toma 17: $2519\n",
            "[ALERTA] Bajada considerable en toma 18: $939\n",
            "[ALERTA] Bajada considerable en toma 19: $0\n",
            "[ALERTA] Bajada considerable en toma 20: $1081\n",
            "\n",
            "[CIERRE] El dólar cerró en $1081. Tendencia final: al alza 📈.\n",
            "[Guardado] Registro de valores guardado en 'registro_dolar.txt'\n"
          ]
        }
      ]
    }
  ]
}