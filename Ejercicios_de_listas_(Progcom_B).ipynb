{
  "nbformat": 4,
  "nbformat_minor": 0,
  "metadata": {
    "colab": {
      "provenance": []
    },
    "kernelspec": {
      "name": "python3",
      "display_name": "Python 3"
    },
    "language_info": {
      "name": "python"
    }
  },
  "cells": [
    {
      "cell_type": "markdown",
      "source": [
        "## Ejercicio"
      ],
      "metadata": {
        "id": "y8ojCOH-Kh9P"
      }
    },
    {
      "cell_type": "markdown",
      "source": [
        "1. Números divisibles por 6 del 1 al 60:"
      ],
      "metadata": {
        "id": "w-d1gCYHIcgR"
      }
    },
    {
      "cell_type": "code",
      "source": [
        "divisibles_por_6 = [n for n in range(1, 61) if n % 6 == 0]\n",
        "print(\"Divisibles por 6:\", divisibles_por_6)"
      ],
      "metadata": {
        "colab": {
          "base_uri": "https://localhost:8080/"
        },
        "id": "MgqXZzHlIrYm",
        "outputId": "fc5ab963-2d61-404d-ed9c-bd73e92f7f38"
      },
      "execution_count": 23,
      "outputs": [
        {
          "output_type": "stream",
          "name": "stdout",
          "text": [
            "Divisibles por 6: [6, 12, 18, 24, 30, 36, 42, 48, 54, 60]\n"
          ]
        }
      ]
    },
    {
      "cell_type": "markdown",
      "source": [
        "2. Nombres que empiecen por \"A\" de una lista de nombres:"
      ],
      "metadata": {
        "id": "qDagffLUIlBl"
      }
    },
    {
      "cell_type": "code",
      "source": [
        "nombres = [\"Ana\", \"Carlos\", \"Andrés\", \"Beatriz\", \"Alberto\", \"Federico\", \"Alejandra\"]\n",
        "nombres_con_A = [nombre for nombre in nombres if nombre.startswith(\"A\")]\n",
        "print(\"Nombres que empiezan con 'A':\", nombres_con_A)"
      ],
      "metadata": {
        "colab": {
          "base_uri": "https://localhost:8080/"
        },
        "id": "UazrvQIhI15U",
        "outputId": "cef59842-cc8d-4b7c-f786-bf6d6a8f012b"
      },
      "execution_count": 33,
      "outputs": [
        {
          "output_type": "stream",
          "name": "stdout",
          "text": [
            "Nombres que empiezan con 'A': ['Ana', 'Andrés', 'Alberto', 'Alejandra']\n"
          ]
        }
      ]
    },
    {
      "cell_type": "markdown",
      "source": [
        "3. Números primos entre 0 y 70:"
      ],
      "metadata": {
        "id": "kvEMsiEOJLgX"
      }
    },
    {
      "cell_type": "code",
      "source": [
        "def es_primo(n):\n",
        "    if n < 2:\n",
        "        return False\n",
        "    return all(n % i != 0 for i in range(2, int(n**0.5) + 1))\n",
        "\n",
        "primos = [n for n in range(0, 71) if es_primo(n)]\n",
        "print(\"Números primos:\", primos)"
      ],
      "metadata": {
        "colab": {
          "base_uri": "https://localhost:8080/"
        },
        "id": "A6TX7wFyKLln",
        "outputId": "251326ce-5f6f-4aec-f92c-10bc76cb1a37"
      },
      "execution_count": 34,
      "outputs": [
        {
          "output_type": "stream",
          "name": "stdout",
          "text": [
            "Números primos: [2, 3, 5, 7, 11, 13, 17, 19, 23, 29, 31, 37, 41, 43, 47, 53, 59, 61, 67]\n"
          ]
        }
      ]
    },
    {
      "cell_type": "markdown",
      "source": [
        "## Actividad final"
      ],
      "metadata": {
        "id": "tcTkzxRBN78p"
      }
    },
    {
      "cell_type": "markdown",
      "source": [
        "Desarrolla un programa que valide si tres números pueden formar un triángulo y de qué tipo es."
      ],
      "metadata": {
        "id": "SP3hnlYVODwQ"
      }
    },
    {
      "cell_type": "code",
      "source": [
        "lados = [float(input(f\"Ingrese el lado {i+1}: \")) for i in range(3)]\n",
        "es_triangulo = all(lados[i] + lados[j] > lados[k] for i, j, k in [(0, 1, 2), (0, 2, 1), (1, 2, 0)])\n",
        "tipos = [\"No es un triángulo\", \"Triángulo escaleno\", \"Triángulo isósceles\", \"Triángulo equilátero\"]\n",
        "tipo = tipos[len(set(lados))] if es_triangulo else tipos[0]\n",
        "print(\"Resultado:\", tipo)"
      ],
      "metadata": {
        "id": "ztgn0MnTOCdN"
      },
      "execution_count": null,
      "outputs": []
    },
    {
      "cell_type": "markdown",
      "source": [
        "Crea un programa que muestre la tabla de multiplicar de un número hasta el 10."
      ],
      "metadata": {
        "id": "dW-1LtScOKan"
      }
    },
    {
      "cell_type": "code",
      "source": [
        "num = int(input(\"Ingrese un número: \"))\n",
        "tabla = [f\"{num} x {i} = {num * i}\" for i in range(1, 11)]\n",
        "for linea in tabla:\n",
        "    print(linea)"
      ],
      "metadata": {
        "id": "1_X2ArOtOPwo"
      },
      "execution_count": null,
      "outputs": []
    },
    {
      "cell_type": "markdown",
      "source": [
        "Escribe un programa que calcule la suma de números naturales hasta n."
      ],
      "metadata": {
        "id": "ZgWmwiEpOTvU"
      }
    },
    {
      "cell_type": "code",
      "source": [
        "n = int(input(\"Ingrese un número natural: \"))\n",
        "suma_naturales = sum([i for i in range(1, n + 1)])\n",
        "print(f\"La suma de los números naturales hasta {n} es: {suma_naturales}\")"
      ],
      "metadata": {
        "id": "MczdO7XfOYGf"
      },
      "execution_count": null,
      "outputs": []
    },
    {
      "cell_type": "markdown",
      "source": [
        "Desarrolla un programa que calcule el factorial de un número. Recuerda que el factorial de 0 es 1 y no existen factoriales negativos."
      ],
      "metadata": {
        "id": "lch0yBBBOeTO"
      }
    },
    {
      "cell_type": "code",
      "source": [
        "n = int(input(\"Ingrese un número entero no negativo: \"))\n",
        "if n < 0:\n",
        "    print(\"No existen factoriales de números negativos.\")\n",
        "else:\n",
        "    from math import prod\n",
        "    factorial = prod([i for i in range(1, n + 1)]) if n > 0 else 1\n",
        "    print(f\"El factorial de {n} es: {factorial}\")"
      ],
      "metadata": {
        "id": "cgiEHfqrOjmC"
      },
      "execution_count": null,
      "outputs": []
    },
    {
      "cell_type": "markdown",
      "source": [
        "Crea un programa que muestre los primeros n números de la serie Fibonacci."
      ],
      "metadata": {
        "id": "AVMt6CCsOoCK"
      }
    },
    {
      "cell_type": "code",
      "source": [
        "n = int(input(\"Ingrese la cantidad de números de la serie Fibonacci: \"))\n",
        "fibonacci = [0, 1] + [sum(fibonacci[-2:]) for _ in range(n-2)] if n > 1 else [0] if n == 1 else []\n",
        "print(f\"Los primeros {n} números de la serie Fibonacci son:\", fibonacci)"
      ],
      "metadata": {
        "id": "iw0F90n4Orhc"
      },
      "execution_count": null,
      "outputs": []
    },
    {
      "cell_type": "markdown",
      "source": [
        "Escribe un programa que adivine entre un conjunto de diez colores definidos por el usuario, con un máximo de 10 intentos."
      ],
      "metadata": {
        "id": "kuzp6IGJOzhL"
      }
    },
    {
      "cell_type": "code",
      "source": [
        "import random\n",
        "colores = [input(f\"Ingrese el color {i+1}: \").strip().lower() for i in range(10)]\n",
        "color_secreto = random.choice(colores)\n",
        "for intento in range(1, 11):\n",
        "    adivinanza = input(f\"Intento {intento}/10 - Adivina el color: \").strip().lower()\n",
        "    if adivinanza == color_secreto:\n",
        "        print(f\"¡Felicidades! Adivinaste el color '{color_secreto}' en {intento} intentos.\")\n",
        "        break\n",
        "    else:\n",
        "        print(\"Incorrecto. Intenta de nuevo.\")\n",
        "else:\n",
        "    print(f\"Lo siento, perdiste  tus 10 intentos. El color correcto era '{color_secreto}'.\")"
      ],
      "metadata": {
        "id": "D8cQKydvO2jc"
      },
      "execution_count": null,
      "outputs": []
    },
    {
      "cell_type": "markdown",
      "source": [
        "Desarrolla un programa que muestre los números pares del 1 al 100."
      ],
      "metadata": {
        "id": "HmueGB3qO6RE"
      }
    },
    {
      "cell_type": "code",
      "source": [
        "pares = [i for i in range(2, 101, 2)]\n",
        "print(\"Números pares del 1 al 100:\", pares)"
      ],
      "metadata": {
        "id": "eWpYezbRO-Z7"
      },
      "execution_count": null,
      "outputs": []
    },
    {
      "cell_type": "markdown",
      "source": [
        "Crea un programa que calcule la suma de los dígitos de un número."
      ],
      "metadata": {
        "id": "ogR1b_j2PDFp"
      }
    },
    {
      "cell_type": "code",
      "source": [
        "num = int(input(\"Ingrese un número: \"))\n",
        "suma_digitos = sum([int(d) for d in str(abs(num))])\n",
        "print(f\"La suma de los dígitos de {num} es: {suma_digitos}\")"
      ],
      "metadata": {
        "id": "p_C3rZysPLNT"
      },
      "execution_count": null,
      "outputs": []
    },
    {
      "cell_type": "markdown",
      "source": [
        "Escribe un programa que determine si un número es primo."
      ],
      "metadata": {
        "id": "cTcADw8wPGpx"
      }
    },
    {
      "cell_type": "code",
      "source": [
        "num = int(input(\"Ingrese un número: \"))\n",
        "es_primo = num > 1 and all(num % i != 0 for i in range(2, int(num ** 0.5) + 1))\n",
        "print(f\"El número {num} {'es primo' if es_primo else 'no es primo'}.\")"
      ],
      "metadata": {
        "id": "cyvqS3PRPss0"
      },
      "execution_count": null,
      "outputs": []
    },
    {
      "cell_type": "markdown",
      "source": [
        "Desarrolla un programa que muestre el patrón de un triángulo con asteriscos."
      ],
      "metadata": {
        "id": "fovWZDBsPtg1"
      }
    },
    {
      "cell_type": "code",
      "source": [
        "n = int(input(\"Ingrese la altura del triángulo: \"))\n",
        "[print(\"*\" * i) for i in range(1, n + 1)]"
      ],
      "metadata": {
        "id": "CgqvNGZ_PxSi"
      },
      "execution_count": null,
      "outputs": []
    },
    {
      "cell_type": "markdown",
      "source": [
        "Crea un programa que calcule la potencia de un número sin usar el operador **."
      ],
      "metadata": {
        "id": "0FPoO4vzP2OB"
      }
    },
    {
      "cell_type": "code",
      "source": [
        "base = int(input(\"Ingrese la base: \"))\n",
        "exponente = int(input(\"Ingrese el exponente: \"))\n",
        "from math import prod\n",
        "potencia = prod([base for _ in range(abs(exponente))])\n",
        "potencia = 1 / potencia if exponente < 0 else potencia\n",
        "print(f\"{base}^{exponente} = {potencia}\")"
      ],
      "metadata": {
        "id": "CuIT9qiHP5Q0"
      },
      "execution_count": null,
      "outputs": []
    }
  ]
}