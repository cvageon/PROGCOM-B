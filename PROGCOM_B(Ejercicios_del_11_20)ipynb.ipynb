{
  "nbformat": 4,
  "nbformat_minor": 0,
  "metadata": {
    "colab": {
      "provenance": []
    },
    "kernelspec": {
      "name": "python3",
      "display_name": "Python 3"
    },
    "language_info": {
      "name": "python"
    }
  },
  "cells": [
    {
      "cell_type": "markdown",
      "source": [
        "**11. Escribe un programa que calcule el índice de masa corporal (IMC) y determine la categoría (bajo peso, normal, sobrepeso, obesidad). Al final, el programa debe imprimir: el nombre del usuario, su categoría y una breve descripción de lo que debe hacer de acuerdo a su categoría.**"
      ],
      "metadata": {
        "id": "bFbvvppIlg_F"
      }
    },
    {
      "cell_type": "code",
      "source": [
        "# Con for\n",
        "def calcular_imc():\n",
        "    nombre = input('Ingresa tu nombre: ')\n",
        "    peso = float(input('Ingresa tu peso en kg: '))\n",
        "    altura = float(input('Ingresa tu altura en metros: '))\n",
        "\n",
        "    imc = peso / (altura ** 2)\n",
        "\n",
        "    # Categorización según IMC\n",
        "    categorias = {\n",
        "        'Bajo peso': (0, 18.5),\n",
        "        'Normal': (18.5, 24.9),\n",
        "        'Sobrepeso': (25, 29.9),\n",
        "        'Obesidad': (30, float('inf'))\n",
        "    }\n",
        "\n",
        "    # Determinar la categoría\n",
        "    for categoria, (min_imc, max_imc) in categorias.items():\n",
        "        if min_imc <= imc < max_imc:\n",
        "            categoria_usuario = categoria\n",
        "            break\n",
        "\n",
        "    # Descripción de lo que debe hacer el usuario\n",
        "    if categoria_usuario == 'Bajo peso':\n",
        "        descripcion = \"Debes consultar con un nutricionista para aumentar de peso de manera saludable.\"\n",
        "    elif categoria_usuario == 'Normal':\n",
        "        descripcion = \"Tu peso es adecuado. Mantén una dieta balanceada y ejercicio regularmente.\"\n",
        "    elif categoria_usuario == 'Sobrepeso':\n",
        "        descripcion = \"Es recomendable que sigas una dieta y ejercicio para reducir tu peso.\"\n",
        "    else:\n",
        "        descripcion = 'Es importante que consultes a un médico para evaluar opciones para perder peso de manera saludable.'\n",
        "\n",
        "    # Mostrar resultado\n",
        "    print(f'\\nNombre: {nombre}')\n",
        "    print(f'Categoría: {categoria_usuario}')\n",
        "    print(f'Descripción: {descripcion}')\n",
        "\n",
        "calcular_imc()\n"
      ],
      "metadata": {
        "colab": {
          "base_uri": "https://localhost:8080/"
        },
        "id": "vbJSOvrqncGU",
        "outputId": "10c74f6d-3134-4e28-e9da-9808b7386fdf"
      },
      "execution_count": null,
      "outputs": [
        {
          "output_type": "stream",
          "name": "stdout",
          "text": [
            "Ingresa tu nombre: carlos\n",
            "Ingresa tu peso en kg: 75\n",
            "Ingresa tu altura en metros: 1.75\n",
            "\n",
            "Nombre: carlos\n",
            "Categoría: Normal\n",
            "Descripción: Tu peso es adecuado. Mantén una dieta balanceada y ejercicio regularmente.\n"
          ]
        }
      ]
    },
    {
      "cell_type": "code",
      "source": [
        "# Con While\n",
        "def calcular_imc():\n",
        "    nombre = input(\"Ingresa tu nombre: \")\n",
        "    peso = float(input(\"Ingresa tu peso en kg: \"))\n",
        "    altura = float(input(\"Ingresa tu altura en metros: \"))\n",
        "\n",
        "    imc = peso / (altura ** 2)\n",
        "\n",
        "    # Categorización según IMC\n",
        "    categorias = {\n",
        "        'Bajo peso': (0, 18.5),\n",
        "        'Normal': (18.5, 24.9),\n",
        "        'Sobrepeso': (25, 29.9),\n",
        "        'Obesidad': (30, float('inf'))\n",
        "    }\n",
        "\n",
        "    categoria_usuario = None\n",
        "    # Determinar la categoría usando while\n",
        "    categorias_iter = iter(categorias.items())\n",
        "    while categoria_usuario is None:\n",
        "        categoria, (min_imc, max_imc) = next(categorias_iter)\n",
        "        if min_imc <= imc < max_imc:\n",
        "            categoria_usuario = categoria\n",
        "\n",
        "    # Descripción de lo que debe hacer el usuario\n",
        "    if categoria_usuario == 'Bajo peso':\n",
        "        descripcion = \"Debes consultar con un nutricionista para aumentar de peso de manera saludable.\"\n",
        "    elif categoria_usuario == 'Normal':\n",
        "        descripcion = \"Tu peso es adecuado. Mantén una dieta balanceada y ejercicio regularmente.\"\n",
        "    elif categoria_usuario == 'Sobrepeso':\n",
        "        descripcion = \"Es recomendable que sigas una dieta y ejercicio para reducir tu peso.\"\n",
        "    else:\n",
        "        descripcion = \"Es importante que consultes a un médico para evaluar opciones para perder peso de manera saludable.\"\n",
        "\n",
        "    # Mostrar resultado\n",
        "    print(f\"\\nNombre: {nombre}\")\n",
        "    print(f\"Categoría: {categoria_usuario}\")\n",
        "    print(f\"Descripción: {descripcion}\")\n",
        "\n",
        "calcular_imc()\n"
      ],
      "metadata": {
        "colab": {
          "base_uri": "https://localhost:8080/"
        },
        "id": "fe0sJ7RJn-Hj",
        "outputId": "184dd2ec-4b5b-4ab8-c829-107fa1187e22"
      },
      "execution_count": null,
      "outputs": [
        {
          "output_type": "stream",
          "name": "stdout",
          "text": [
            "Ingresa tu nombre: carlos \n",
            "Ingresa tu peso en kg: 70\n",
            "Ingresa tu altura en metros: 1.75\n",
            "\n",
            "Nombre: carlos \n",
            "Categoría: Normal\n",
            "Descripción: Tu peso es adecuado. Mantén una dieta balanceada y ejercicio regularmente.\n"
          ]
        }
      ]
    },
    {
      "cell_type": "markdown",
      "source": [
        "***12. Desarrolla un programa que simule una calculadora simple (+, -, *, /) con dos números.***"
      ],
      "metadata": {
        "id": "3U9lubIEpMwR"
      }
    },
    {
      "cell_type": "code",
      "source": [
        "# Con for\n",
        "def calculadora_con_for():\n",
        "    numero1 = float(input(\"Ingresa el primer número: \"))\n",
        "    numero2 = float(input(\"Ingresa el segundo número: \"))\n",
        "\n",
        "    operaciones = {\n",
        "        '+': numero1 + numero2,\n",
        "        '-': numero1 - numero2,\n",
        "        '*': numero1 * numero2,\n",
        "        '/': numero1 / numero2 if numero2 != 0 else \"Error: División por 0\"\n",
        "    }\n",
        "\n",
        "    print(\"\\nOperaciones disponibles:\")\n",
        "    for operacion in operaciones:\n",
        "        print(operacion)\n",
        "\n",
        "    operacion_elegida = input(\"\\nElige una operación (+, -, *, /): \")\n",
        "\n",
        "    if operacion_elegida in operaciones:\n",
        "        resultado = operaciones[operacion_elegida]\n",
        "        print(f\"\\nEl resultado de {numero1} {operacion_elegida} {numero2} es: {resultado}\")\n",
        "    else:\n",
        "        print(\"Operación no válida. Intenta de nuevo.\")\n",
        "\n",
        "calculadora_con_for()\n"
      ],
      "metadata": {
        "id": "RFb1xfFipMcT"
      },
      "execution_count": null,
      "outputs": []
    },
    {
      "cell_type": "code",
      "source": [
        "# Con while\n",
        "def calculadora_con_while():\n",
        "    numero1 = float(input(\"Ingresa el primer número: \"))\n",
        "    numero2 = float(input(\"Ingresa el segundo número: \"))\n",
        "\n",
        "    operacion_elegida = ''\n",
        "\n",
        "    while operacion_elegida not in ['+', '-', '*', '/']:\n",
        "        operacion_elegida = input(\"\\nElige una operación (+, -, *, /): \")\n",
        "        if operacion_elegida not in ['+', '-', '*', '/']:\n",
        "            print(\"Operación no válida. Intenta de nuevo.\")\n",
        "\n",
        "    if operacion_elegida == '+':\n",
        "        resultado = numero1 + numero2\n",
        "    elif operacion_elegida == '-':\n",
        "        resultado = numero1 - numero2\n",
        "    elif operacion_elegida == '*':\n",
        "        resultado = numero1 * numero2\n",
        "    elif operacion_elegida == '/':\n",
        "        if numero2 == 0:\n",
        "            resultado = \"Error: División por 0\"\n",
        "        else:\n",
        "            resultado = numero1 / numero2\n",
        "\n",
        "    print(f\"\\nEl resultado de {numero1} {operacion_elegida} {numero2} es: {resultado}\")\n",
        "\n",
        "calculadora_con_while()\n"
      ],
      "metadata": {
        "id": "mko74lYMp2gw"
      },
      "execution_count": null,
      "outputs": []
    },
    {
      "cell_type": "markdown",
      "source": [
        "***13.Crea un programa que determine la calificación en letras (A, B, C, D, F) según una nota numérica (0-100).***"
      ],
      "metadata": {
        "id": "2NEfPT5Hp9S4"
      }
    },
    {
      "cell_type": "code",
      "source": [
        "# Con for\n",
        "def calificacion_con_for():\n",
        "    nota = float(input(\"Ingresa la nota (0-100): \"))\n",
        "\n",
        "    calificaciones = {\n",
        "        'A': (90, 100),\n",
        "        'B': (80, 89),\n",
        "        'C': (70, 79),\n",
        "        'D': (60, 69),\n",
        "        'F': (0, 59)\n",
        "    }\n",
        "\n",
        "    for calificacion, (min_nota, max_nota) in calificaciones.items():\n",
        "        if min_nota <= nota <= max_nota:\n",
        "            print(f\"La calificación es: {calificacion}\")\n",
        "            break\n",
        "\n",
        "calificacion_con_for()\n"
      ],
      "metadata": {
        "id": "7zxJ3eXeqHlI"
      },
      "execution_count": null,
      "outputs": []
    },
    {
      "cell_type": "code",
      "source": [
        "# Con while\n",
        "def calificacion_con_while():\n",
        "    nota = float(input(\"Ingresa la nota (0-100): \"))\n",
        "\n",
        "    calificacion = ''\n",
        "\n",
        "    while calificacion == '':\n",
        "        if 90 <= nota <= 100:\n",
        "            calificacion = 'A'\n",
        "        elif 80 <= nota < 90:\n",
        "            calificacion = 'B'\n",
        "        elif 70 <= nota < 80:\n",
        "            calificacion = 'C'\n",
        "        elif 60 <= nota < 70:\n",
        "            calificacion = 'D'\n",
        "        elif 0 <= nota < 60:\n",
        "            calificacion = 'F'\n",
        "        else:\n",
        "            print(\"Nota fuera de rango. Intenta de nuevo.\")\n",
        "            nota = float(input(\"Ingresa una nota válida (0-100): \"))\n",
        "\n",
        "    print(f\"La calificación es: {calificacion}\")\n",
        "\n",
        "calificacion_con_while()\n"
      ],
      "metadata": {
        "id": "z7STPgDYqVh5"
      },
      "execution_count": null,
      "outputs": []
    },
    {
      "cell_type": "markdown",
      "source": [
        "**14. Escribe un programa que determine el día de la semana según un número (1-7).**"
      ],
      "metadata": {
        "id": "jvt-24j3ombN"
      }
    },
    {
      "cell_type": "code",
      "source": [
        "#Con for\n",
        "dias_semana = [\"Lunes\", \"Martes\", \"Miércoles\", \"Jueves\", \"Viernes\", \"Sábado\", \"Domingo\"]\n",
        "\n",
        "num = int(input(\"Ingrese un número (1-7) para conocer el día de la semana: \"))\n",
        "\n",
        "for i in range(1, 8):\n",
        "    if num == i:\n",
        "        print(f\"El día correspondiente es: {dias_semana[i-1]}\")\n",
        "        break\n",
        "else:\n",
        "    print(\"Número fuera de rango. Debe ser entre 1 y 7.\")"
      ],
      "metadata": {
        "id": "DLHMYAKSo4Ew"
      },
      "execution_count": null,
      "outputs": []
    },
    {
      "cell_type": "code",
      "source": [
        "#Con el while\n",
        "dias_semana = [\"Lunes\", \"Martes\", \"Miércoles\", \"Jueves\", \"Viernes\", \"Sábado\", \"Domingo\"]\n",
        "\n",
        "num = int(input(\"Ingrese un número (1-7) para conocer el día de la semana: \"))\n",
        "\n",
        "while num < 1 or num > 7:\n",
        "    print(\"Número fuera de rango. Intente de nuevo.\")\n",
        "    num = int(input(\"Ingrese un número (1-7): \"))\n",
        "\n",
        "print(f\"El día correspondiente es: {dias_semana[num-1]}\")"
      ],
      "metadata": {
        "id": "m2W7ZnT8qOPO"
      },
      "execution_count": null,
      "outputs": []
    },
    {
      "cell_type": "markdown",
      "source": [
        "**15. Desarrolla un programa que valide si tres números pueden formar un triángulo y de qué tipo es.**"
      ],
      "metadata": {
        "id": "UXuTIQIarfzL"
      }
    },
    {
      "cell_type": "code",
      "source": [
        "#Con el for\n",
        "def tipo_triangulo(a, b, c):\n",
        "    if a == b == c:\n",
        "        return \"Equilátero\"\n",
        "    elif a == b or a == c or b == c:\n",
        "        return \"Isósceles\"\n",
        "    else:\n",
        "        return \"Escaleno\"\n",
        "\n",
        "lados = []\n",
        "for i in range(3):  # Iteramos 3 veces para pedir 3 lados\n",
        "    lado = float(input(f\"Ingrese la longitud del lado {i+1}: \"))\n",
        "    lados.append(lado)\n",
        "\n",
        "a, b, c = lados\n",
        "if a + b > c and a + c > b and b + c > a:\n",
        "    print(f\"Los lados forman un triángulo {tipo_triangulo(a, b, c)}.\")\n",
        "else:\n",
        "    print(\"Los lados ingresados NO forman un triángulo.\")"
      ],
      "metadata": {
        "id": "8TeZYd9Xr-nm"
      },
      "execution_count": null,
      "outputs": []
    },
    {
      "cell_type": "code",
      "source": [
        "#Con el while\n",
        "def tipo_triangulo(a, b, c):\n",
        "    if a == b == c:\n",
        "        return \"Equilátero\"\n",
        "    elif a == b or a == c or b == c:\n",
        "        return \"Isósceles\"\n",
        "    else:\n",
        "        return \"Escaleno\"\n",
        "\n",
        "lados = []\n",
        "i = 0\n",
        "while i < 3:\n",
        "    try:\n",
        "        lado = float(input(f\"Ingrese la longitud del lado {i+1}: \"))\n",
        "        if lado > 0:\n",
        "            lados.append(lado)\n",
        "            i += 1\n",
        "        else:\n",
        "            print(\"El lado debe ser un número positivo.\")\n",
        "    except ValueError:\n",
        "        print(\"Entrada no válida. Ingrese un número.\")\n",
        "\n",
        "a, b, c = lados\n",
        "if a + b > c and a + c > b and b + c > a:\n",
        "    print(f\"Los lados forman un triángulo {tipo_triangulo(a, b, c)}.\")\n",
        "else:\n",
        "    print(\"Los lados ingresados NO forman un triángulo.\")"
      ],
      "metadata": {
        "id": "6XG9IP3jtDcZ"
      },
      "execution_count": null,
      "outputs": []
    },
    {
      "cell_type": "markdown",
      "source": [
        "**16. Crea un programa que muestre la tabla de multiplicar de un número hasta el 10.**"
      ],
      "metadata": {
        "id": "f6SkV0xbtoAg"
      }
    },
    {
      "cell_type": "code",
      "source": [
        "#Con el for\n",
        "num = int(input(\"Ingrese un número para ver su tabla de multiplicar: \"))\n",
        "\n",
        "print(f\"\\nTabla de multiplicar del {num}:\")\n",
        "for i in range(1, 11):  # Itera del 1 al 10\n",
        "    print(f\"{num} x {i} = {num * i}\")"
      ],
      "metadata": {
        "id": "aRpPUe0Bt66Y"
      },
      "execution_count": null,
      "outputs": []
    },
    {
      "cell_type": "code",
      "source": [
        "#Con el while\n",
        "num = int(input(\"Ingrese un número para ver su tabla de multiplicar: \"))\n",
        "\n",
        "print(f\"\\nTabla de multiplicar del {num}:\")\n",
        "i = 1\n",
        "while i <= 10:\n",
        "    print(f\"{num} x {i} = {num * i}\")\n",
        "    i += 1\n"
      ],
      "metadata": {
        "id": "4YYeKYObt7yI"
      },
      "execution_count": null,
      "outputs": []
    },
    {
      "cell_type": "markdown",
      "source": [
        "**17. Escribe un programa que calcule la suma de números naturales hasta n.**"
      ],
      "metadata": {
        "id": "pLARS1AOvy6_"
      }
    },
    {
      "cell_type": "code",
      "source": [
        "#Con el for\n",
        "n = int(input(\"Ingrese un número natural (n) para calcular la suma hasta n: \"))\n",
        "\n",
        "if n < 1:\n",
        "    print(\"Por favor, ingrese un número natural positivo.\")\n",
        "else:\n",
        "    suma = 0\n",
        "    for i in range(1, n + 1):\n",
        "        suma += i\n",
        "    print(f\"La suma de los números naturales hasta {n} es: {suma}\")"
      ],
      "metadata": {
        "id": "cw_cIhNmwS3_"
      },
      "execution_count": null,
      "outputs": []
    },
    {
      "cell_type": "code",
      "source": [
        "#Con el while\n",
        "n = int(input(\"Ingrese un número natural (n) para calcular la suma hasta n: \"))\n",
        "\n",
        "if n < 1:\n",
        "    print(\"Por favor, ingrese un número natural positivo.\")\n",
        "else:\n",
        "    suma = 0\n",
        "    i = 1\n",
        "    while i <= n:\n",
        "        suma += i\n",
        "        i += 1\n",
        "    print(f\"La suma de los números naturales hasta {n} es: {suma}\")"
      ],
      "metadata": {
        "id": "YWzZmyPmwka0"
      },
      "execution_count": null,
      "outputs": []
    },
    {
      "cell_type": "markdown",
      "source": [
        "**18.Desarrolla un programa que calcule el factorial de un número. Recuerda que el factorial de 0 es 1 y no existen factoriales negativos.**"
      ],
      "metadata": {
        "id": "dWeFZNVkxBd_"
      }
    },
    {
      "cell_type": "code",
      "source": [
        "#Con el for\n",
        "n = int(input(\"Ingrese un número para calcular su factorial: \"))\n",
        "\n",
        "if n < 0:\n",
        "    print(\"No existe el factorial de un número negativo.\")\n",
        "else:\n",
        "    factorial = 1\n",
        "    for i in range(1, n + 1):\n",
        "        factorial *= i\n",
        "    print(f\"El factorial de {n} es: {factorial}\")"
      ],
      "metadata": {
        "id": "d7LiwEkCynOO"
      },
      "execution_count": null,
      "outputs": []
    },
    {
      "cell_type": "code",
      "source": [
        "#Con el while\n",
        "n = int(input(\"Ingrese un número para calcular su factorial: \"))\n",
        "\n",
        "if n < 0:\n",
        "    print(\"No existe el factorial de un número negativo.\")\n",
        "else:\n",
        "    factorial = 1\n",
        "    i = 1\n",
        "    while i <= n:\n",
        "        factorial *= i\n",
        "        i += 1\n",
        "    print(f\"El factorial de {n} es: {factorial}\")"
      ],
      "metadata": {
        "id": "6mhWW-v9ynqU"
      },
      "execution_count": null,
      "outputs": []
    },
    {
      "cell_type": "markdown",
      "source": [
        "**19.Crea un programa que muestre los primeros n números de la serie Fibonacci**"
      ],
      "metadata": {
        "id": "JQgU_qhwyB8z"
      }
    },
    {
      "cell_type": "code",
      "source": [
        "#Con for\n",
        "n = int(input(\"Ingrese la cantidad de números de la serie Fibonacci que desea ver: \"))\n",
        "\n",
        "if n <= 0:\n",
        "    print(\"Por favor, ingrese un número entero positivo.\")\n",
        "else:\n",
        "    fibonacci = [0, 1]\n",
        "    for i in range(2, n):\n",
        "        fibonacci.append(fibonacci[-1] + fibonacci[-2])\n",
        "\n",
        "    print(f\"Serie de Fibonacci con {n} términos: {fibonacci[:n]}\")"
      ],
      "metadata": {
        "id": "4imUBjocymAF"
      },
      "execution_count": null,
      "outputs": []
    },
    {
      "cell_type": "code",
      "source": [
        "#Con while\n",
        "n = int(input(\"Ingrese la cantidad de números de la serie Fibonacci que desea ver: \"))\n",
        "\n",
        "\n",
        "if n <= 0:\n",
        "    print(\"Por favor, ingrese un número entero positivo.\")\n",
        "else:\n",
        "    a, b = 0, 1\n",
        "    contador = 0\n",
        "\n",
        "    print(f\"Serie de Fibonacci con {n} términos:\")\n",
        "    while contador < n:\n",
        "        print(a, end=\" \")\n",
        "        a, b = b, a + b\n",
        "        contador += 1"
      ],
      "metadata": {
        "id": "XF83JSqh1OCW"
      },
      "execution_count": null,
      "outputs": []
    },
    {
      "cell_type": "markdown",
      "source": [
        "**20. Escribe un programa que adivine entre un conjunto de diez colores definidos por el usuario, con un máximo de 10 intentos.**"
      ],
      "metadata": {
        "id": "INwL2n936eLJ"
      }
    },
    {
      "cell_type": "code",
      "source": [
        "#Con for\n",
        "import random\n",
        "\n",
        "colores = []\n",
        "print(\"Ingrese 10 colores para jugar:\")\n",
        "for i in range(10):\n",
        "    color = input(f\"Color {i+1}: \").strip().lower()\n",
        "    colores.append(color)\n",
        "\n",
        "color_secreto = random.choice(colores)\n",
        "\n",
        "print(\"\\nHe elegido un color al azar. ¡Intenta adivinarlo!\")\n",
        "\n",
        "for intento in range(1, 11):\n",
        "    respuesta = input(f\"Intento {intento}/10: \").strip().lower()\n",
        "\n",
        "    if respuesta == color_secreto:\n",
        "        print(f\"¡Felicidades! Adivinaste el color en {intento} intentos.\")\n",
        "        break\n",
        "    else:\n",
        "        print(\"Incorrecto. Intenta de nuevo.\")\n",
        "else:\n",
        "    print(f\"Lo siento, has agotado tus intentos. El color era '{color_secreto}'.\")"
      ],
      "metadata": {
        "id": "uzRrd9ps6g16"
      },
      "execution_count": null,
      "outputs": []
    },
    {
      "cell_type": "code",
      "source": [
        "#Con el while\n",
        "import random\n",
        "\n",
        "colores = []\n",
        "print(\"Ingrese 10 colores para jugar:\")\n",
        "i = 0\n",
        "while i < 10:\n",
        "    color = input(f\"Color {i+1}: \").strip().lower()\n",
        "    colores.append(color)\n",
        "    i += 1\n",
        "\n",
        "color_secreto = random.choice(colores)\n",
        "\n",
        "print(\"\\nHe elegido un color al azar. ¡Intenta adivinarlo!\")\n",
        "\n",
        "intentos = 0\n",
        "acertado = False\n",
        "while intentos < 10:\n",
        "    respuesta = input(f\"Intento {intentos+1}/10: \").strip().lower()\n",
        "\n",
        "    if respuesta == color_secreto:\n",
        "        print(f\"¡Felicidades! Adivinaste el color en {intentos+1} intentos.\")\n",
        "        acertado = True\n",
        "        break\n",
        "    else:\n",
        "        print(\"Incorrecto. Intenta de nuevo.\")\n",
        "\n",
        "    intentos += 1\n",
        "\n",
        "if not acertado:\n",
        "    print(f\"Lo siento, has agotado tus intentos. El color era '{color_secreto}'.\")"
      ],
      "metadata": {
        "id": "dWXlkrQH6hCY"
      },
      "execution_count": null,
      "outputs": []
    }
  ]
}