{
  "nbformat": 4,
  "nbformat_minor": 0,
  "metadata": {
    "colab": {
      "provenance": []
    },
    "kernelspec": {
      "name": "python3",
      "display_name": "Python 3"
    },
    "language_info": {
      "name": "python"
    }
  },
  "cells": [
    {
      "cell_type": "markdown",
      "source": [
        "**Escribe un programa que calcule el índice de masa corporal (IMC) y determine la categoría (bajo peso, normal, sobrepeso, obesidad). Al final, el programa debe imprimir: el nombre del usuario, su categoría y una breve descripción de lo que debe hacer de acuerdo a su categoría.**"
      ],
      "metadata": {
        "id": "bFbvvppIlg_F"
      }
    },
    {
      "cell_type": "code",
      "source": [
        "# Con for\n",
        "def calcular_imc():\n",
        "    nombre = input('Ingresa tu nombre: ')\n",
        "    peso = float(input('Ingresa tu peso en kg: '))\n",
        "    altura = float(input('Ingresa tu altura en metros: '))\n",
        "\n",
        "    imc = peso / (altura ** 2)\n",
        "\n",
        "    # Categorización según IMC\n",
        "    categorias = {\n",
        "        'Bajo peso': (0, 18.5),\n",
        "        'Normal': (18.5, 24.9),\n",
        "        'Sobrepeso': (25, 29.9),\n",
        "        'Obesidad': (30, float('inf'))\n",
        "    }\n",
        "\n",
        "    # Determinar la categoría\n",
        "    for categoria, (min_imc, max_imc) in categorias.items():\n",
        "        if min_imc <= imc < max_imc:\n",
        "            categoria_usuario = categoria\n",
        "            break\n",
        "\n",
        "    # Descripción de lo que debe hacer el usuario\n",
        "    if categoria_usuario == 'Bajo peso':\n",
        "        descripcion = \"Debes consultar con un nutricionista para aumentar de peso de manera saludable.\"\n",
        "    elif categoria_usuario == 'Normal':\n",
        "        descripcion = \"Tu peso es adecuado. Mantén una dieta balanceada y ejercicio regularmente.\"\n",
        "    elif categoria_usuario == 'Sobrepeso':\n",
        "        descripcion = \"Es recomendable que sigas una dieta y ejercicio para reducir tu peso.\"\n",
        "    else:\n",
        "        descripcion = 'Es importante que consultes a un médico para evaluar opciones para perder peso de manera saludable.'\n",
        "\n",
        "    # Mostrar resultado\n",
        "    print(f'\\nNombre: {nombre}')\n",
        "    print(f'Categoría: {categoria_usuario}')\n",
        "    print(f'Descripción: {descripcion}')\n",
        "\n",
        "calcular_imc()\n"
      ],
      "metadata": {
        "colab": {
          "base_uri": "https://localhost:8080/"
        },
        "id": "vbJSOvrqncGU",
        "outputId": "10c74f6d-3134-4e28-e9da-9808b7386fdf"
      },
      "execution_count": 7,
      "outputs": [
        {
          "output_type": "stream",
          "name": "stdout",
          "text": [
            "Ingresa tu nombre: carlos\n",
            "Ingresa tu peso en kg: 75\n",
            "Ingresa tu altura en metros: 1.75\n",
            "\n",
            "Nombre: carlos\n",
            "Categoría: Normal\n",
            "Descripción: Tu peso es adecuado. Mantén una dieta balanceada y ejercicio regularmente.\n"
          ]
        }
      ]
    },
    {
      "cell_type": "code",
      "source": [
        "# Con While\n",
        "def calcular_imc():\n",
        "    nombre = input(\"Ingresa tu nombre: \")\n",
        "    peso = float(input(\"Ingresa tu peso en kg: \"))\n",
        "    altura = float(input(\"Ingresa tu altura en metros: \"))\n",
        "\n",
        "    imc = peso / (altura ** 2)\n",
        "\n",
        "    # Categorización según IMC\n",
        "    categorias = {\n",
        "        'Bajo peso': (0, 18.5),\n",
        "        'Normal': (18.5, 24.9),\n",
        "        'Sobrepeso': (25, 29.9),\n",
        "        'Obesidad': (30, float('inf'))\n",
        "    }\n",
        "\n",
        "    categoria_usuario = None\n",
        "    # Determinar la categoría usando while\n",
        "    categorias_iter = iter(categorias.items())\n",
        "    while categoria_usuario is None:\n",
        "        categoria, (min_imc, max_imc) = next(categorias_iter)\n",
        "        if min_imc <= imc < max_imc:\n",
        "            categoria_usuario = categoria\n",
        "\n",
        "    # Descripción de lo que debe hacer el usuario\n",
        "    if categoria_usuario == 'Bajo peso':\n",
        "        descripcion = \"Debes consultar con un nutricionista para aumentar de peso de manera saludable.\"\n",
        "    elif categoria_usuario == 'Normal':\n",
        "        descripcion = \"Tu peso es adecuado. Mantén una dieta balanceada y ejercicio regularmente.\"\n",
        "    elif categoria_usuario == 'Sobrepeso':\n",
        "        descripcion = \"Es recomendable que sigas una dieta y ejercicio para reducir tu peso.\"\n",
        "    else:\n",
        "        descripcion = \"Es importante que consultes a un médico para evaluar opciones para perder peso de manera saludable.\"\n",
        "\n",
        "    # Mostrar resultado\n",
        "    print(f\"\\nNombre: {nombre}\")\n",
        "    print(f\"Categoría: {categoria_usuario}\")\n",
        "    print(f\"Descripción: {descripcion}\")\n",
        "\n",
        "calcular_imc()\n"
      ],
      "metadata": {
        "colab": {
          "base_uri": "https://localhost:8080/"
        },
        "id": "fe0sJ7RJn-Hj",
        "outputId": "184dd2ec-4b5b-4ab8-c829-107fa1187e22"
      },
      "execution_count": 6,
      "outputs": [
        {
          "output_type": "stream",
          "name": "stdout",
          "text": [
            "Ingresa tu nombre: carlos \n",
            "Ingresa tu peso en kg: 70\n",
            "Ingresa tu altura en metros: 1.75\n",
            "\n",
            "Nombre: carlos \n",
            "Categoría: Normal\n",
            "Descripción: Tu peso es adecuado. Mantén una dieta balanceada y ejercicio regularmente.\n"
          ]
        }
      ]
    },
    {
      "cell_type": "markdown",
      "source": [
        "***12. Desarrolla un programa que simule una calculadora simple (+, -, *, /) con dos números.***"
      ],
      "metadata": {
        "id": "3U9lubIEpMwR"
      }
    },
    {
      "cell_type": "code",
      "source": [
        "# Con for\n",
        "def calculadora_con_for():\n",
        "    numero1 = float(input(\"Ingresa el primer número: \"))\n",
        "    numero2 = float(input(\"Ingresa el segundo número: \"))\n",
        "\n",
        "    operaciones = {\n",
        "        '+': numero1 + numero2,\n",
        "        '-': numero1 - numero2,\n",
        "        '*': numero1 * numero2,\n",
        "        '/': numero1 / numero2 if numero2 != 0 else \"Error: División por 0\"\n",
        "    }\n",
        "\n",
        "    print(\"\\nOperaciones disponibles:\")\n",
        "    for operacion in operaciones:\n",
        "        print(operacion)\n",
        "\n",
        "    operacion_elegida = input(\"\\nElige una operación (+, -, *, /): \")\n",
        "\n",
        "    if operacion_elegida in operaciones:\n",
        "        resultado = operaciones[operacion_elegida]\n",
        "        print(f\"\\nEl resultado de {numero1} {operacion_elegida} {numero2} es: {resultado}\")\n",
        "    else:\n",
        "        print(\"Operación no válida. Intenta de nuevo.\")\n",
        "\n",
        "calculadora_con_for()\n"
      ],
      "metadata": {
        "id": "RFb1xfFipMcT"
      },
      "execution_count": null,
      "outputs": []
    },
    {
      "cell_type": "code",
      "source": [
        "# Con while\n",
        "def calculadora_con_while():\n",
        "    numero1 = float(input(\"Ingresa el primer número: \"))\n",
        "    numero2 = float(input(\"Ingresa el segundo número: \"))\n",
        "\n",
        "    operacion_elegida = ''\n",
        "\n",
        "    while operacion_elegida not in ['+', '-', '*', '/']:\n",
        "        operacion_elegida = input(\"\\nElige una operación (+, -, *, /): \")\n",
        "        if operacion_elegida not in ['+', '-', '*', '/']:\n",
        "            print(\"Operación no válida. Intenta de nuevo.\")\n",
        "\n",
        "    if operacion_elegida == '+':\n",
        "        resultado = numero1 + numero2\n",
        "    elif operacion_elegida == '-':\n",
        "        resultado = numero1 - numero2\n",
        "    elif operacion_elegida == '*':\n",
        "        resultado = numero1 * numero2\n",
        "    elif operacion_elegida == '/':\n",
        "        if numero2 == 0:\n",
        "            resultado = \"Error: División por 0\"\n",
        "        else:\n",
        "            resultado = numero1 / numero2\n",
        "\n",
        "    print(f\"\\nEl resultado de {numero1} {operacion_elegida} {numero2} es: {resultado}\")\n",
        "\n",
        "calculadora_con_while()\n"
      ],
      "metadata": {
        "id": "mko74lYMp2gw"
      },
      "execution_count": null,
      "outputs": []
    },
    {
      "cell_type": "markdown",
      "source": [
        "***13.Crea un programa que determine la calificación en letras (A, B, C, D, F) según una nota numérica (0-100).***"
      ],
      "metadata": {
        "id": "2NEfPT5Hp9S4"
      }
    },
    {
      "cell_type": "code",
      "source": [
        "# Con for\n",
        "def calificacion_con_for():\n",
        "    nota = float(input(\"Ingresa la nota (0-100): \"))\n",
        "\n",
        "    calificaciones = {\n",
        "        'A': (90, 100),\n",
        "        'B': (80, 89),\n",
        "        'C': (70, 79),\n",
        "        'D': (60, 69),\n",
        "        'F': (0, 59)\n",
        "    }\n",
        "\n",
        "    for calificacion, (min_nota, max_nota) in calificaciones.items():\n",
        "        if min_nota <= nota <= max_nota:\n",
        "            print(f\"La calificación es: {calificacion}\")\n",
        "            break\n",
        "\n",
        "calificacion_con_for()\n"
      ],
      "metadata": {
        "id": "7zxJ3eXeqHlI"
      },
      "execution_count": null,
      "outputs": []
    },
    {
      "cell_type": "code",
      "source": [
        "# Con while\n",
        "def calificacion_con_while():\n",
        "    nota = float(input(\"Ingresa la nota (0-100): \"))\n",
        "\n",
        "    calificacion = ''\n",
        "\n",
        "    while calificacion == '':\n",
        "        if 90 <= nota <= 100:\n",
        "            calificacion = 'A'\n",
        "        elif 80 <= nota < 90:\n",
        "            calificacion = 'B'\n",
        "        elif 70 <= nota < 80:\n",
        "            calificacion = 'C'\n",
        "        elif 60 <= nota < 70:\n",
        "            calificacion = 'D'\n",
        "        elif 0 <= nota < 60:\n",
        "            calificacion = 'F'\n",
        "        else:\n",
        "            print(\"Nota fuera de rango. Intenta de nuevo.\")\n",
        "            nota = float(input(\"Ingresa una nota válida (0-100): \"))\n",
        "\n",
        "    print(f\"La calificación es: {calificacion}\")\n",
        "\n",
        "calificacion_con_while()\n"
      ],
      "metadata": {
        "id": "z7STPgDYqVh5"
      },
      "execution_count": null,
      "outputs": []
    }
  ]
}