{
  "nbformat": 4,
  "nbformat_minor": 0,
  "metadata": {
    "colab": {
      "provenance": []
    },
    "kernelspec": {
      "name": "python3",
      "display_name": "Python 3"
    },
    "language_info": {
      "name": "python"
    }
  },
  "cells": [
    {
      "cell_type": "code",
      "execution_count": null,
      "metadata": {
        "id": "SX2l9RiupMm4"
      },
      "outputs": [],
      "source": [
        "\n",
        "def mover_cuerpo(medio,rep):\n",
        "  for i in range(rep):\n",
        "    for j in range(medio):\n",
        "      print(\"Muevo pierna izquierda hacia adelante\")\n",
        "    for z in range(medio):\n",
        "      print(\"muevo pierna derecha hacia adelante\")\n",
        "def patada(pierna):\n",
        "  for i in range(pierna):\n",
        "    print(\"patada derecha\")\n",
        "def saltitos_der_izq(saltos,rep):\n",
        "  for i in range(rep):\n",
        "    for j in range(saltos):\n",
        "      print(\"salto hacia la derecha\")\n",
        "    for z in range(saltos):\n",
        "          print(\"salto hacia la izquierda\")\n",
        "def piernacambiada(pie):\n",
        "  for i in range(pie):\n",
        "    print(\"pierna derecha cruza detras de la izquierda junto movimiento de brazos\")\n",
        "def piernascerradas(cierre,repeticion):\n",
        "  for i in range(repeticion):\n",
        "    for j in range(cierre):\n",
        "      print(\"cerrar piernas\")\n",
        "    for z in range(cierre):\n",
        "      print(\"abrir piernas\")\n",
        "def celebracion(move):\n",
        "  for i in range(move):\n",
        "    print(\"brazo derecho con pierna izquierda extendidos\")\n",
        "def baile(si,repe):\n",
        "  for i in range(repe):\n",
        "    for j in range(si):\n",
        "      print(\"camianta bailada hacia adelnate\")\n",
        "    for z in range(si):\n",
        "      print(\"caminata bailada hacia atras\")\n",
        "def final(descanso):\n",
        "  for i in range(descanso):\n",
        "    print(\"agachado cerrando los brazos\")"
      ]
    },
    {
      "cell_type": "code",
      "source": [
        "mover_cuerpo(1,2)\n",
        "patada(1)\n",
        "saltitos_der_izq(1,5)\n",
        "piernacambiada(1)\n",
        "piernascerradas(1,3)\n",
        "celebracion(1)\n",
        "baile(1,3)\n",
        "final(1)"
      ],
      "metadata": {
        "colab": {
          "base_uri": "https://localhost:8080/"
        },
        "id": "IgAb9-UNtwph",
        "outputId": "94f48d7e-7fc4-4168-bcaf-281f7bbc6160"
      },
      "execution_count": null,
      "outputs": [
        {
          "output_type": "stream",
          "name": "stdout",
          "text": [
            "Muevo pierna izquierda hacia adelante\n",
            "muevo pierna derecha hacia adelante\n",
            "Muevo pierna izquierda hacia adelante\n",
            "muevo pierna derecha hacia adelante\n",
            "patada derecha\n",
            "salto hacia la derecha\n",
            "salto hacia la izquierda\n",
            "salto hacia la derecha\n",
            "salto hacia la izquierda\n",
            "salto hacia la derecha\n",
            "salto hacia la izquierda\n",
            "salto hacia la derecha\n",
            "salto hacia la izquierda\n",
            "salto hacia la derecha\n",
            "salto hacia la izquierda\n",
            "pierna derecha cruza detras de la izquierda junto movimiento de brazos\n",
            "cerrar piernas\n",
            "abrir piernas\n",
            "cerrar piernas\n",
            "abrir piernas\n",
            "cerrar piernas\n",
            "abrir piernas\n",
            "brazo derecho con pierna izquierda extendidos\n",
            "camianta bailada hacia adelnate\n",
            "caminata bailada hacia atras\n",
            "camianta bailada hacia adelnate\n",
            "caminata bailada hacia atras\n",
            "camianta bailada hacia adelnate\n",
            "caminata bailada hacia atras\n",
            "agachado cerrando los brazos\n"
          ]
        }
      ]
    }
  ]
}